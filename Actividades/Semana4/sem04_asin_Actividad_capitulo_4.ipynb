{
 "cells": [
  {
   "cell_type": "markdown",
   "id": "5d671b98",
   "metadata": {},
   "source": [
    "# Actividades Capítulo 4 - Estructuras de Datos\n",
    "\n",
    "Resumen de la actividad.\n",
    "\n",
    "\n",
    "- **1. Pilas y Colas**\n",
    "  - Actividad 1.2 - Implementar una Cola\n",
    "\n",
    "\n",
    "- **2. Búsqueda Secuencial**\n",
    "  - Actividad 2.1 - Búsqueda en una Lista\n",
    "\n",
    "\n",
    "- **3. Búsqueda Binaria**\n",
    "  - Actividad 3.1 - Búsqueda Binaria\n",
    "\n",
    "\n",
    "- **4. Tablas Hash**\n",
    "  - Actividad 4.1 - Implementar una Tabla Hash"
   ]
  },
  {
   "cell_type": "markdown",
   "id": "33866775",
   "metadata": {},
   "source": [
    "# Actividad: Implementación de una Pila en Python\n",
    "\n",
    "En esta actividad, tendrás la oportunidad de aplicar tus conocimientos sobre estructuras de datos y programación en Python para implementar una pila (stack). Una pila es una estructura de datos que sigue el principio \"Last-In-First-Out\" (LIFO), lo que significa que el último elemento que se agrega es el primero en ser eliminado.\n",
    "\n",
    "## Resumen:\n",
    "\n",
    "- **stack** = [ ]  # Recordando que una pila es básicamente una lista.\n",
    "- **append**: Método utilizado para agregar un elemento a la lista.\n",
    "- **pop**: Método usado para eliminar elementos de la lista, sino se especifica el índice se elimina el último elemento y retorna la lista resultante."
   ]
  },
  {
   "cell_type": "code",
   "execution_count": 2,
   "id": "fbb2dca1",
   "metadata": {},
   "outputs": [
    {
     "name": "stdout",
     "output_type": "stream",
     "text": [
      "Nombres que empiezan con 'Z': ['Zacarías', 'Zoe', 'Zaira']\n",
      "Nombres que empiezan con 'Y': ['Yenny', 'Yolanda']\n",
      "Nombres que empiezan con 'X': ['Xavier', 'Ximena']\n",
      "Nombres que empiezan con 'V': ['Verónica', 'Víctor']\n",
      "Nombres que empiezan con 'T': ['Teresa', 'Tomás']\n",
      "Nombres que empiezan con 'S': ['Silvia', 'Sergio', 'Sara']\n",
      "Nombres que empiezan con 'R': ['Rosario', 'Roberto', 'Renata', 'Rafael', 'Raquel']\n",
      "Nombres que empiezan con 'P': ['Pedro', 'Paula', 'Pablo']\n",
      "Nombres que empiezan con 'O': ['Olivia']\n",
      "Nombres que empiezan con 'Ó': ['Óscar']\n",
      "Nombres que empiezan con 'N': ['Nora', 'Nicolás', 'Natalia']\n",
      "Nombres que empiezan con 'M': ['Miguel', 'María', 'Manuel']\n",
      "Nombres que empiezan con 'L': ['Lorena', 'Lucía', 'Luis']\n",
      "Nombres que empiezan con 'J': ['Juan']\n",
      "Nombres que empiezan con 'I': ['Isabel']\n",
      "Nombres que empiezan con 'H': ['Hugo']\n",
      "Nombres que empiezan con 'G': ['Gabriela']\n",
      "Nombres que empiezan con 'F': ['Fernando']\n",
      "Nombres que empiezan con 'E': ['Elena']\n",
      "Nombres que empiezan con 'D': ['David']\n",
      "Nombres que empiezan con 'C': ['Carlos']\n",
      "Nombres que empiezan con 'A': ['Ana']\n",
      "Lista inicial vacía: []\n"
     ]
    }
   ],
   "source": [
    "nombres_aleatorios = [\"Ana\", \"Carlos\", \"David\", \"Elena\", \"Fernando\", \"Gabriela\",\n",
    "                      \"Hugo\", \"Isabel\", \"Juan\", \"Luis\", \"Lucía\",\n",
    "                      \"Lorena\", \"Manuel\", \"María\", \"Miguel\", \"Natalia\",\n",
    "                      \"Nicolás\", \"Nora\", \"Óscar\", \"Olivia\", \"Pablo\", \"Paula\",\n",
    "                      \"Pedro\", \"Raquel\", \"Rafael\", \"Renata\", \"Roberto\", \"Rosario\",\n",
    "                      \"Sara\", \"Sergio\", \"Silvia\", \"Tomás\", \"Teresa\", \"Víctor\", \"Verónica\",\n",
    "                      \"Ximena\", \"Xavier\", \"Yolanda\", \"Yenny\", \"Zaira\", \"Zoe\", \"Zacarías\"]\n",
    "\n",
    "class Pila:\n",
    "    def __init__(self):\n",
    "        self.stack = []\n",
    "\n",
    "    def push(self, elemento):\n",
    "        self.stack.append(elemento)\n",
    "\n",
    "    def pop(self):\n",
    "        if not self.is_empty():\n",
    "            return self.stack.pop()\n",
    "        else:\n",
    "            return None\n",
    "\n",
    "    def is_empty(self):\n",
    "        return len(self.stack) == 0\n",
    "\n",
    "    def peek(self):\n",
    "        if not self.is_empty():\n",
    "            return self.stack[-1]\n",
    "        else:\n",
    "            return None\n",
    "\n",
    "    def mostrar(self):\n",
    "        print(self.stack)\n",
    "\n",
    "# Generar un código para revisar los nombres contenidos en la lista, y guardarlos en diferentes listas,\n",
    "# de acuerdo a la inicial del nombre, use los comandos usandos antenirmente y barra los elementos usando \n",
    "# el comando \"for nombre in nombres_aleatorios:\" al final del proceso la lista inicial debe quedar vacia.\n",
    "\n",
    "pila_nombres = Pila()\n",
    "\n",
    "nombres_por_inicial = {}\n",
    "\n",
    "for nombre in nombres_aleatorios:\n",
    "    pila_nombres.push(nombre)\n",
    "\n",
    "while not pila_nombres.is_empty():\n",
    "    nombre = pila_nombres.pop()\n",
    "    inicial = nombre[0]\n",
    "    if inicial not in nombres_por_inicial:\n",
    "        nombres_por_inicial[inicial] = [] \n",
    "    nombres_por_inicial[inicial].append(nombre)\n",
    "\n",
    "nombres_aleatorios.clear()\n",
    "\n",
    "for inicial, lista in nombres_por_inicial.items():\n",
    "    print(f\"Nombres que empiezan con '{inicial}': {lista}\")\n",
    "\n",
    "print(\"Lista inicial vacía:\", nombres_aleatorios)"
   ]
  },
  {
   "cell_type": "markdown",
   "id": "490f04a8",
   "metadata": {},
   "source": [
    "# Actividad: Replique el código, mostrado en la presentación 36 correspondiente al capítulo 4.\n",
    "\n",
    "En este codódigo se muestra la creación de una clasa para crear una pila y hacer las actividades básicas correspondientes.\n",
    "\n",
    "- **__init__**: Creación de la pila.\n",
    "- **is_empty**: Verificación si la pila está vacia.\n",
    "- **push**: agregar elemento a la pila\n",
    "- **pop**:si la pila no está vacia eliminar el último de elemento.\n",
    "\n",
    "Use la notación mostrada en la presentacion 40, realice varias operaciones y comente brevemente los resultados (máximo 3 lineas), antes de pasar a la siguiente actividad asegurese de entender completamente la notación utilizada."
   ]
  },
  {
   "cell_type": "code",
   "execution_count": 34,
   "id": "950d71ca",
   "metadata": {},
   "outputs": [
    {
     "name": "stdout",
     "output_type": "stream",
     "text": [
      "Alejandra\n",
      "Pedro\n",
      "Juan\n",
      "None\n"
     ]
    }
   ],
   "source": [
    "# Escriba su código en está celda y todos los comentarios necesarios en la misma celda.\n",
    "class Stack:\n",
    "    def __init__(self):\n",
    "        self.stack = []\n",
    "\n",
    "    def is_empty(self):\n",
    "        return True if len(self.stack) == 0 else False\n",
    "\n",
    "    def push(self, item):\n",
    "        self.stack.append(item)\n",
    "\n",
    "    def pop(self):\n",
    "        return None if self.is_empty() else self.stack.pop()\n",
    "\n",
    "# Acá se llama al constructor de la clase para poder crear nuestra lista stack\n",
    "stack = Stack()\n",
    "\n",
    "# Acá se realiza el ingreso de 3 datos a la pila con el metodo push de la clase Stack\n",
    "stack.push(\"Juan\")\n",
    "stack.push(\"Pedro\")\n",
    "stack.push(\"Alejandra\")\n",
    "\n",
    "# Acá se realiza la eliminacion de los datos uno por uno con el metodo pop de la clase Stack hasta dejarla vacía\n",
    "print(stack.pop())\n",
    "print(stack.pop())\n",
    "print(stack.pop())\n",
    "print(stack.pop())"
   ]
  },
  {
   "cell_type": "markdown",
   "id": "5f2fe9e8",
   "metadata": {},
   "source": [
    "# Actividad: Búsqueda secuencial.\n",
    "\n",
    "Se tiene una lista de 10 ciudades organizadas en función de la densidad de población, escriba una función para retornar la posición ocupada.\n"
   ]
  },
  {
   "cell_type": "code",
   "execution_count": 10,
   "id": "dec8954f",
   "metadata": {},
   "outputs": [
    {
     "name": "stdout",
     "output_type": "stream",
     "text": [
      "5\n"
     ]
    }
   ],
   "source": [
    "ciudades = [\n",
    "    \"Daca, Bangladés\",\n",
    "    \"Karachi, Pakistán\",\n",
    "    \"Nueva Delhi, India\",\n",
    "    \"Manila, Filipinas\",\n",
    "    \"Seúl, Corea del Sur\",\n",
    "    \"Cantón, China\",\n",
    "    \"Taipéi, Taiwán\",\n",
    "    \"Chenaral, Chile\",\n",
    "    \"Shenzhen, China\",\n",
    "    \"Bombay, India\"\n",
    "]\n",
    "\n",
    "def obtener_posicion(ciudades, ciudad):\n",
    "    # Espaciós para desarrollar el código\n",
    "    try:\n",
    "        posicion = ciudades.index(ciudad) + 1\n",
    "    except ValueError:\n",
    "        posicion = -1\n",
    "    return posicion \n",
    "\n",
    "posicion_ocupada = obtener_posicion(ciudades,\"Seúl, Corea del Sur\")\n",
    "print(posicion_ocupada)"
   ]
  },
  {
   "cell_type": "markdown",
   "id": "9fffd532",
   "metadata": {},
   "source": [
    "# Actividad: Búsqueda binaria.\n",
    "\n",
    "- Escriba al menos una ventaja de la busqueda binaria.\n",
    "- Replique el código mostrado en la presentación 192.\n",
    "- Explique brevemente el funcionamiento del código, maximo 3 lineas.\n",
    "- Ingrese un piso de ruptura del huevo y calcule cuantas veces se realiza la revisión para encontrar el piso seguro.(Se puede agrear algún contador dentro del código para verificar)\n"
   ]
  },
  {
   "cell_type": "code",
   "execution_count": 74,
   "id": "bdc866e2",
   "metadata": {},
   "outputs": [
    {
     "name": "stdin",
     "output_type": "stream",
     "text": [
      "Ingrese el numero de pisos:  5\n",
      "Ingrese el numero del piso donde se rompera el huevo 4\n"
     ]
    },
    {
     "name": "stdout",
     "output_type": "stream",
     "text": [
      "Se realizaron 2 intentos para encontrar el piso seguro.\n",
      "El huevo estará a salvo hasta el piso 3 numero.\n"
     ]
    }
   ],
   "source": [
    "# Espacio para replicar el código.\n",
    "def do_experiment(floor, breaking):\n",
    "    return floor >= breaking\n",
    "\n",
    "def find_highest_safe_floor2(height, breaking):\n",
    "    low, high = 1, height\n",
    "    attempts = 0\n",
    "    while low < high:\n",
    "        mid = (low + high) // 2\n",
    "# Cálculo y verificación del número de veces que se realiza la verificación.\n",
    "        attempts += 1\n",
    "        if do_experiment(mid, breaking):\n",
    "            high = mid\n",
    "        else:\n",
    "            low = mid + 1\n",
    "    print(f\"Se realizaron {attempts} intentos para encontrar el piso seguro.\")\n",
    "    return low - 1\n",
    "\n",
    "height = int(input(\"Ingrese el numero de pisos: \"))\n",
    "breaking = int(input(\"Ingrese el numero del piso donde se rompera el huevo\"))\n",
    "floor = find_highest_safe_floor2(height, breaking)\n",
    "print(f\"El huevo estará a salvo hasta el piso {floor} numero.\")\n",
    "\n",
    "# Ventaja de la búsqueda binaria\n",
    "# Una ventaja de la búsqueda binaria es que es más eficiente que la búsqueda\n",
    "# secuencial, ya que reduce el rango de búsqueda a la mitad en cada paso, \n",
    "# lo que permite encontrar el valor de manera mucho más rápida con una complejidad\n",
    "# de tiempo O(log n).\n",
    "\n",
    "# Espacio para explicar funcionamiento.\n",
    "# Se recibe el número total de pisos y el piso donde el huevo se romperá.\n",
    "# Luego, en el bucle `while`, se realiza la búsqueda binaria para encontrar\n",
    "# el piso más alto donde el huevo no se rompa. Al mismo tiempo, se cuenta\n",
    "# cuántos intentos se realizan durante el proceso."
   ]
  },
  {
   "cell_type": "markdown",
   "id": "eb266a1e",
   "metadata": {},
   "source": [
    "# Actividad: Definir una tabla Hash tipo diccionario.\n",
    "\n",
    "En la siguiente celda se muestrar como crear un diccionario, como agregar elementos, como eliminar elementos,\n",
    "como verificar si la key existe en el diccionario, basados en este código agregue otros elementos, comente los resultados, si tienes alguna duda también la puedes escribir. (Use máximo 3 líneas en la explicación)\n"
   ]
  },
  {
   "cell_type": "code",
   "execution_count": 20,
   "id": "f48163a5",
   "metadata": {},
   "outputs": [
    {
     "name": "stdout",
     "output_type": "stream",
     "text": [
      "Nombre: Juan\n",
      "Edad: 30\n",
      "Ciudad: Nueva York\n",
      "La clave 'ciudad' está en el diccionario.\n",
      "La clave 'ciudad' no está en el diccionario.\n",
      "Profesión: Ingeniero\n",
      "País: Estados Unidos\n",
      "La clave 'profesion' está en el diccionario.\n"
     ]
    }
   ],
   "source": [
    "# Crear un diccionario vacío\n",
    "mi_diccionario = {}\n",
    "\n",
    "# Agregar elementos al diccionario\n",
    "mi_diccionario[\"nombre\"] = \"Juan\"\n",
    "mi_diccionario[\"edad\"] = 30\n",
    "mi_diccionario[\"ciudad\"] = \"Nueva York\"\n",
    "\n",
    "# Acceder a los valores por clave\n",
    "print(\"Nombre:\", mi_diccionario[\"nombre\"])\n",
    "print(\"Edad:\", mi_diccionario[\"edad\"])\n",
    "print(\"Ciudad:\", mi_diccionario[\"ciudad\"])\n",
    "\n",
    "# Modificar un valor existente\n",
    "mi_diccionario[\"edad\"] = 31\n",
    "\n",
    "# Verificar si la clave 'cuidad' existe en el diccionario antes de eliminarla\n",
    "if \"ciudad\" in mi_diccionario:\n",
    "    print(\"La clave 'ciudad' está en el diccionario.\")\n",
    "else:\n",
    "    print(\"La clave 'ciudad' no está en el diccionario.\")\n",
    "# El resultado fue que corrió la línea de código \n",
    "# print(\"La clave 'ciudad' está en el diccionario.\") al estar aún en el diccionario\n",
    "\n",
    "# Eliminar un elemento del diccionario\n",
    "del mi_diccionario[\"ciudad\"]\n",
    "\n",
    "# Verificar si una clave existe en el diccionario\n",
    "if \"ciudad\" in mi_diccionario:\n",
    "    print(\"La clave 'ciudad' está en el diccionario.\")\n",
    "else:\n",
    "    print(\"La clave 'ciudad' no está en el diccionario.\")\n",
    "\n",
    "# Agregar nuevos elementos al diccionario\n",
    "mi_diccionario[\"profesion\"] = \"Ingeniero\"\n",
    "mi_diccionario[\"pais\"] = \"Estados Unidos\"\n",
    "\n",
    "# Acceder a los nuevos valores por clave\n",
    "print(\"Profesión:\", mi_diccionario[\"profesion\"])\n",
    "print(\"País:\", mi_diccionario[\"pais\"])\n",
    "# El resultado fue que mostró los elementos nuevos que fueron agregados al diccionario\n",
    "\n",
    "# Verificar si una clave nueva existe en el diccionario\n",
    "if \"profesion\" in mi_diccionario:\n",
    "    print(\"La clave 'profesion' está en el diccionario.\")\n",
    "else:\n",
    "    print(\"La clave 'profesion' no está en el diccionario.\")\n",
    "# Verifica la existencia de la clave profesion, y como \n",
    "# la agregamos al diccionario previamente con el valor \"Ingeniero\" nos corre la línea\n",
    "# print(\"La clave 'profesion' está en el diccionario.\")"
   ]
  },
  {
   "cell_type": "code",
   "execution_count": null,
   "id": "54c52113-2b78-41e0-a844-9ecc62c6fcc4",
   "metadata": {},
   "outputs": [],
   "source": []
  }
 ],
 "metadata": {
  "kernelspec": {
   "display_name": "Python 3 (ipykernel)",
   "language": "python",
   "name": "python3"
  },
  "language_info": {
   "codemirror_mode": {
    "name": "ipython",
    "version": 3
   },
   "file_extension": ".py",
   "mimetype": "text/x-python",
   "name": "python",
   "nbconvert_exporter": "python",
   "pygments_lexer": "ipython3",
   "version": "3.12.4"
  }
 },
 "nbformat": 4,
 "nbformat_minor": 5
}
