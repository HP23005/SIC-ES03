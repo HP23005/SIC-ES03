{
 "cells": [
  {
   "cell_type": "markdown",
   "id": "5ad8356f",
   "metadata": {},
   "source": [
    "# Actividades Capítulo 3.\n",
    "\n",
    "\n",
    "# Concepto básico de programación e inicio en Python\n",
    "\n",
    "## Resumen de actividades\n",
    "\n",
    "\n",
    "- **Unidad 17.** Función\n",
    "- **Unidad 18.** Llamada a la función de recurrencia.\n",
    "- **Unidad 19.** Lambda\n",
    "- **Unidad 20.** Clausura\n",
    "- **Unidad 21.** Clase\n"
   ]
  },
  {
   "cell_type": "markdown",
   "id": "8c5aa9c8",
   "metadata": {},
   "source": [
    "# Actividad: Creacion de funciones.\n",
    "\n",
    "\n",
    "## Instrucciones\n",
    "\n",
    "1. Defina en forma breve el concepto de función.\n",
    "- La función es un bloque de código que nos permite realizar una cosa y que tiene la particularidad que puede ser reutilizado las veces que la necesitemos a lo largo de la ejecucion del programa\n",
    "\n",
    "2. Crear una función para realizar la suma de los números impares en el rango de 0 a 100, dentro de la función imprima los valores sumados y al final retorne el resultado de la sumatoria.\n"
   ]
  },
  {
   "cell_type": "code",
   "execution_count": 4,
   "id": "90cd2e33",
   "metadata": {},
   "outputs": [
    {
     "name": "stdout",
     "output_type": "stream",
     "text": [
      "La suma de los numeros impares de 0 a 100 es: 2500\n"
     ]
    }
   ],
   "source": [
    "# Espacio para desarrollar el código requerido, recuerde agregar algunos\n",
    "# comentarios breves sobre su funcionamiento.\n",
    "\n",
    "def suma_impares():\n",
    "    suma = 0\n",
    "    for numeros in range (1, 100 + 1, 2): # Rango del 1 al 100, haciendo saltos de 2 en 2 a partir del 1, para ir tomando los impares\n",
    "        suma += numeros # Suma cada numero impar agregandolo a la variable suma\n",
    "    return suma # Regresa la variable suma que tiene la suma completa de los impares\n",
    "    \n",
    "resultado = suma_impares() # Resultado llama a la funcion suma_impares\n",
    "print(f'La suma de los numeros impares de 0 a 100 es: {resultado}') # Muestra el resultado"
   ]
  },
  {
   "cell_type": "markdown",
   "id": "a11871f3",
   "metadata": {},
   "source": [
    "# Actividad: Diseñe una función para codificar strings y otra para decodificar strings.\n",
    "\n",
    "1. Revise documentación relacionada a los procesos de encriptación, explique brevemente como funcionan.\n",
    "2. Ambas funciones deben tener como entrada un string y una ¨Clave\", la ¨Clave¨ será usada para codificar y decodificar.\n",
    "3. El desarrollo de está actividad esta abierto a multiples soluciones, por favor sea original en su respuesta.\n"
   ]
  },
  {
   "cell_type": "code",
   "execution_count": 36,
   "id": "1e7a5371",
   "metadata": {},
   "outputs": [
    {
     "name": "stdout",
     "output_type": "stream",
     "text": [
      "Seleccione una opción:\n",
      "1. Cifrar un texto\n",
      "2. Descifrar un texto\n",
      "3. Salir\n"
     ]
    },
    {
     "name": "stdin",
     "output_type": "stream",
     "text": [
      "Ingrese su opción:  3\n"
     ]
    },
    {
     "name": "stdout",
     "output_type": "stream",
     "text": [
      "Saliendo del programa...\n"
     ]
    }
   ],
   "source": [
    "# Espacio para desarrollar la actividad, si tienes alguna duda o comentario adicional\n",
    "# lo puedes dejar planteado acá.\n",
    "import string\n",
    "\n",
    "def cipher (var):\n",
    "    idx = src_str.index(var) \n",
    "    return dst_str[idx] \n",
    "\n",
    "def decipher(var):\n",
    "    idx = dst_str.index(var)\n",
    "    return src_str[idx]\n",
    "\n",
    "uppers = string.ascii_uppercase \n",
    "lowers = string.ascii_lowercase \n",
    "src_str = lowers + uppers\n",
    "dst_str = lowers[3:] + lowers[:3] + uppers[3:] + uppers[:3] \n",
    "                                      \n",
    "while True:\n",
    "        print(\"Seleccione una opción:\")\n",
    "        print(\"1. Cifrar un texto\")\n",
    "        print(\"2. Descifrar un texto\")\n",
    "        print(\"3. Salir\")\n",
    "        \n",
    "        opcion = input(\"Ingrese su opción: \")\n",
    "        \n",
    "        if opcion == '1':\n",
    "            # Cifrado Cesar\n",
    "            src = input('Introduzca una frase a cifrar: ') \n",
    "            print('Texto cifrado: ', end = '')\n",
    "            for ch in src:\n",
    "                if ch in src_str:\n",
    "                    print(cipher(ch), end = '')\n",
    "                else:\n",
    "                    print(ch, end = '')\n",
    "            print()\n",
    "            break\n",
    "        \n",
    "        elif opcion == '2':\n",
    "            # Descifrado Cesar\n",
    "            dst = input('Introduzca una frase a descifrar: ')\n",
    "            print('Texto descifrado: ', end = '')\n",
    "            for ch in dst:\n",
    "                if ch in dst_str:\n",
    "                    print(decipher(ch), end = '')\n",
    "                else:\n",
    "                    print(ch, end = '')\n",
    "            print()\n",
    "            break\n",
    "        \n",
    "        elif opcion == '3':\n",
    "            print(\"Saliendo del programa...\")\n",
    "            break\n",
    "        \n",
    "        else:\n",
    "            print(\"Opción no válida. Por favor, intente de nuevo.\")"
   ]
  },
  {
   "cell_type": "markdown",
   "id": "a207d974",
   "metadata": {},
   "source": [
    "\n",
    "# Actividad: Diseñe y codifique una función.\n",
    "\n",
    "1. Diseñe una función que revise el contenido de una carpeta, la mision de esta funcion es revisar todas las carpetas existentes y obtener los nommbres de los archivos contenidos.\n",
    "2. Considere que dentro de cada carpete pueden existir otras carpetas.\n",
    "3. Todas las carpetas deben ser revisadas.\n",
    "4. Con la ejecucion de la siguiente celda se crearan las carpetas y los archivos.\n",
    "5. Es posible que debas considerar el uso de una función recursiva."
   ]
  },
  {
   "cell_type": "code",
   "execution_count": 38,
   "id": "b4ac1d5a",
   "metadata": {},
   "outputs": [
    {
     "name": "stdout",
     "output_type": "stream",
     "text": [
      "Carpeta_principal\n",
      "Carpeta_principal/folder_0\n",
      "Carpeta_principal/folder_1\n",
      "Carpeta_principal/folder_2\n",
      "Carpeta_principal/folder_3\n",
      "Carpeta_principal/folder_8\n",
      "Carpeta_principal\\folder_0\n",
      "Carpeta_principal\\folder_0/folder_1\n",
      "Carpeta_principal\\folder_0/folder_3\n",
      "Carpeta_principal\\folder_0/folder_6\n",
      "Carpeta_principal\\folder_0/folder_7\n",
      "Carpeta_principal\\folder_0\\folder_1\n",
      "Carpeta_principal\\folder_0\\folder_3\n",
      "Carpeta_principal\\folder_0\\folder_3/folder_1\n",
      "Carpeta_principal\\folder_0\\folder_3/folder_2\n",
      "Carpeta_principal\\folder_0\\folder_3/folder_4\n",
      "Carpeta_principal\\folder_0\\folder_3/folder_5\n",
      "Carpeta_principal\\folder_0\\folder_3\\folder_1\n",
      "Carpeta_principal\\folder_0\\folder_3\\folder_2\n",
      "Carpeta_principal\\folder_0\\folder_3\\folder_4\n",
      "Carpeta_principal\\folder_0\\folder_3\\folder_5\n",
      "Carpeta_principal\\folder_0\\folder_6\n",
      "Carpeta_principal\\folder_0\\folder_7\n",
      "Carpeta_principal\\folder_1\n",
      "Carpeta_principal\\folder_2\n",
      "Carpeta_principal\\folder_3\n",
      "Carpeta_principal\\folder_8\n"
     ]
    }
   ],
   "source": [
    "import os\n",
    "import random\n",
    "\n",
    "def guardar_archivo(text_content, file_path):\n",
    "    with open(file_path, 'w') as file:\n",
    "        # Write the text content to the file\n",
    "        file.write(text_content)\n",
    "\n",
    "\n",
    "if os.path.exists(\"Carpeta_principal\"):\n",
    "    os.system(f'rm -r \"Carpeta_principal\"')\n",
    "\n",
    "os.mkdir(\"Carpeta_principal\")\n",
    "# Inicialización\n",
    "\n",
    "\n",
    "\n",
    "def crear_carpetas(ruta_actual):\n",
    "    global numeracion_del_archivo, numero_de_sub_carpetas\n",
    "    numero_de_archivos_o_carpetas = random.randint(0,15) # genración de numero aleatorio entre 0 y 15.\n",
    "    print(ruta_actual)\n",
    "    if numero_de_sub_carpetas < max_carpetas:\n",
    "        for n in range(0, numero_de_archivos_o_carpetas):\n",
    "\n",
    "            numero_aleatorio_2 = random.randint(0,2) # número aleatoria entre 0 y 1.\n",
    "            if numero_aleatorio_2 == 0:\n",
    "                os.mkdir(ruta_actual +'/'+ 'folder_{}'.format(n) )\n",
    "                print(ruta_actual +'/'+ 'folder_{}'.format(n))\n",
    "            else:\n",
    "                contenido_del_archivo = \"Contenido_{}\".format(numeracion_del_archivo)                \n",
    "                ruta_del_archivo = ruta_actual + '/' + \"archivo_{}.text\".format(numeracion_del_archivo)\n",
    "#                 print(\"ruta_del_archivo: \", ruta_del_archivo)\n",
    "                guardar_archivo(contenido_del_archivo, ruta_del_archivo)\n",
    "                numeracion_del_archivo += 1\n",
    "                \n",
    "        lista_de_nuevas_carpetas = [f.path for f in os.scandir(ruta_actual) if f.is_dir()] # Busqueda de nueva carpeta\n",
    "\n",
    "        numero_de_sub_carpetas += 1\n",
    "        for carpeta in lista_de_nuevas_carpetas:\n",
    "            crear_carpetas(carpeta)\n",
    "        \n",
    "max_carpetas = 4\n",
    "numeracion_del_archivo = 0\n",
    "numero_de_sub_carpetas = 0\n",
    "ruta_actual = \"Carpeta_principal\"\n",
    "crear_carpetas(ruta_actual)"
   ]
  },
  {
   "cell_type": "code",
   "execution_count": 40,
   "id": "a4f925a4",
   "metadata": {},
   "outputs": [
    {
     "name": "stdout",
     "output_type": "stream",
     "text": [
      "\n",
      "Lista de archivos:\n",
      "Carpeta_principal\\archivo_0.text\n",
      "Carpeta_principal\\archivo_1.text\n",
      "Carpeta_principal\\archivo_2.text\n",
      "Carpeta_principal\\archivo_3.text\n",
      "Carpeta_principal\\archivo_4.text\n",
      "Carpeta_principal\\archivo_5.text\n",
      "Carpeta_principal\\archivo_6.text\n",
      "Carpeta_principal\\folder_0\\archivo_10.text\n",
      "Carpeta_principal\\folder_0\\archivo_7.text\n",
      "Carpeta_principal\\folder_0\\archivo_8.text\n",
      "Carpeta_principal\\folder_0\\archivo_9.text\n",
      "Carpeta_principal\\folder_0\\folder_3\\archivo_11.text\n",
      "Carpeta_principal\\folder_0\\folder_3\\archivo_12.text\n",
      "Carpeta_principal\\folder_0\\folder_3\\archivo_13.text\n"
     ]
    }
   ],
   "source": [
    "# Celda para desarrollar \n",
    "def listar_archivos(ruta):\n",
    "    archivos = []\n",
    "    for elemento in os.listdir(ruta):\n",
    "        ruta_completa = os.path.join(ruta, elemento)\n",
    "        if os.path.isdir(ruta_completa):\n",
    "            archivos += listar_archivos(ruta_completa)\n",
    "        else:\n",
    "            archivos.append(ruta_completa)\n",
    "    return archivos\n",
    "\n",
    "print(\"\\nLista de archivos:\")\n",
    "archivos = listar_archivos(ruta_actual)\n",
    "for archivo in archivos:\n",
    "    print(archivo)"
   ]
  },
  {
   "cell_type": "markdown",
   "id": "26a6bb9e",
   "metadata": {},
   "source": [
    "# Actividad: Crear diccionarios y guardarlos como archivo JSON.\n",
    "\n",
    "De la unidad 11 sección 4.6 revise el ejemplo mostrado.\n",
    "\n",
    "Genera un diccionario, sobre la información que deseas guardar como base de datos, desarrollo el código necesario para generar el archivo JSON, y también el código para cargar la información del archivo JSON.\n"
   ]
  },
  {
   "cell_type": "code",
   "execution_count": 18,
   "id": "6670eace",
   "metadata": {},
   "outputs": [
    {
     "name": "stdout",
     "output_type": "stream",
     "text": [
      "{'perro_1': {'nombre': 'Terry', 'color': 'Café'}, 'perro_2': {'nombre': 'Max', 'color': 'Negro'}, 'perro_3': {'nombre': 'Blanquito', 'color': 'Blanco'}}\n"
     ]
    }
   ],
   "source": [
    "# Espacio para desarrollar el código siguiendo las instrucciones.\n",
    "perros = {\n",
    "    \"perro_1\": {\"nombre\": \"Terry\", \"color\": \"Café\"},\n",
    "    \"perro_2\": {\"nombre\": \"Max\", \"color\": \"Negro\"},\n",
    "    \"perro_3\": {\"nombre\": \"Blanquito\", \"color\": \"Blanco\"}\n",
    "}\n",
    "\n",
    "with open(\"perros.json\", \"wt\") as archivo_json:\n",
    "    json.dump(perros, archivo_json, indent=4)\n",
    "\n",
    "with open(\"perros.json\", \"rt\") as archivo_json:\n",
    "    datos_recuperados = json.load(archivo_json)\n",
    "\n",
    "print(datos_recuperados)"
   ]
  },
  {
   "cell_type": "markdown",
   "id": "fbfb4985",
   "metadata": {},
   "source": [
    "# Actividad: Uso de la funcion Lambda.\n",
    "\n",
    "## Instrucciones\n",
    "\n",
    "1. Escriba una función regular donde se realice una operación.\n",
    "2. Escriba la misma función donde use la expresión lambda.\n",
    "3. Explica brevemente las ventajas de usar la función Lambda.\n"
   ]
  },
  {
   "cell_type": "code",
   "execution_count": 12,
   "id": "fc5b1a43",
   "metadata": {},
   "outputs": [
    {
     "name": "stdout",
     "output_type": "stream",
     "text": [
      "10\n",
      "12\n"
     ]
    }
   ],
   "source": [
    "# Espacio para desarrollar el código siguiendo las instrucciones.\n",
    "def resta(a, b, c):\n",
    "    return a + b +c\n",
    "print(resta(5,3, 2))\n",
    "\n",
    "suma_lambda = lambda x, y, z: x + y + z\n",
    "print(suma_lambda(3, 4, 5))\n",
    "\n",
    "#Las ventajas son que se puede usar para acortar las lineas de codigo, al acortar las funciones pequeñas o de poca complejidad a una linea de codigo"
   ]
  },
  {
   "cell_type": "markdown",
   "id": "98938d2d",
   "metadata": {},
   "source": [
    "# Actividad: Usar la función map para duplicar el valor de cada uno de los elementos contenidos.\n",
    "\n",
    "## Instrucciones\n",
    "\n",
    "1. Describa brevemente el funcionamiento y las ventajas de usar la función map\n",
    "- map nos permite realizar la tarea de una funcion en una linea, usando los elementos de un iterable, devolviendonos un iterable.\n",
    "\n",
    "2. Escriba el código en el siguiente espacio."
   ]
  },
  {
   "cell_type": "code",
   "execution_count": 14,
   "id": "a35ef1b7",
   "metadata": {},
   "outputs": [
    {
     "name": "stdout",
     "output_type": "stream",
     "text": [
      "[3, 4, 5, 6, 7]\n"
     ]
    }
   ],
   "source": [
    "# Espacio para desarrollar el código.\n",
    "numeros = [1, 2, 3, 4, 5]\n",
    "\n",
    "suma_2 = lambda x: x + 2\n",
    "\n",
    "resultado = list(map(suma_2, numeros))\n",
    "\n",
    "print(resultado)"
   ]
  }
 ],
 "metadata": {
  "kernelspec": {
   "display_name": "Python 3 (ipykernel)",
   "language": "python",
   "name": "python3"
  },
  "language_info": {
   "codemirror_mode": {
    "name": "ipython",
    "version": 3
   },
   "file_extension": ".py",
   "mimetype": "text/x-python",
   "name": "python",
   "nbconvert_exporter": "python",
   "pygments_lexer": "ipython3",
   "version": "3.12.4"
  }
 },
 "nbformat": 4,
 "nbformat_minor": 5
}
