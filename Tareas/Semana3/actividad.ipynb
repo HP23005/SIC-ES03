{
 "cells": [
  {
   "cell_type": "code",
   "execution_count": 5,
   "id": "1203b8b9-49e8-427f-b7eb-5d4b2c0f94e7",
   "metadata": {},
   "outputs": [
    {
     "name": "stdout",
     "output_type": "stream",
     "text": [
      "Nombre del Director: Juan Perez\n",
      "Posición del Director: CEO\n",
      "\n",
      "Nombre del Empleado: Alejandra Herrera\n",
      "ID del Empleado: 1\n"
     ]
    }
   ],
   "source": [
    "class Persona:\n",
    "    def __init__(self, name):\n",
    "        self.__name = name\n",
    "    def get_name(self):\n",
    "        return self.__name\n",
    "    def set_name(self, name):\n",
    "        self.__name = name\n",
    "\n",
    "class Director(Persona):\n",
    "    def __init__(self, name, position):\n",
    "        super().__init__(name)\n",
    "        self.__position = position\n",
    "\n",
    "    def get_position(self):\n",
    "        return self.__position\n",
    "\n",
    "    def set_position(self, position):\n",
    "        self.__position = position\n",
    "\n",
    "class Empleado(Persona):\n",
    "    def __init__(self, name, emp_id):\n",
    "        super().__init__(name)\n",
    "        self.__emp_id = emp_id\n",
    "\n",
    "    def get_emp_id(self):\n",
    "        return self.__emp_id\n",
    "\n",
    "    def set_emp_id(self, emp_id):\n",
    "        self.__emp_id = emp_id\n",
    "\n",
    "director = Director(\"Juan Perez\", \"CEO\")\n",
    "print(\"Nombre del Director:\", director.get_name())\n",
    "print(\"Posición del Director:\", director.get_position())\n",
    "\n",
    "print()\n",
    "\n",
    "empleado = Empleado(\"Alejandra Herrera\", 1)\n",
    "print(\"Nombre del Empleado:\", empleado.get_name())\n",
    "print(\"ID del Empleado:\", empleado.get_emp_id())"
   ]
  }
 ],
 "metadata": {
  "kernelspec": {
   "display_name": "Python 3 (ipykernel)",
   "language": "python",
   "name": "python3"
  },
  "language_info": {
   "codemirror_mode": {
    "name": "ipython",
    "version": 3
   },
   "file_extension": ".py",
   "mimetype": "text/x-python",
   "name": "python",
   "nbconvert_exporter": "python",
   "pygments_lexer": "ipython3",
   "version": "3.12.4"
  }
 },
 "nbformat": 4,
 "nbformat_minor": 5
}
