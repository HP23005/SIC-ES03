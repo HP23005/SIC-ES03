{
 "cells": [
  {
   "cell_type": "markdown",
   "id": "f34adb44",
   "metadata": {
    "id": "f34adb44"
   },
   "source": [
    "# Actividades Capítulo 1.\n",
    "\n",
    "\n",
    "# Concepto básico de programación e inicio en Python\n",
    "\n",
    "## Resumen de actividades\n",
    "\n",
    "- **Unidad 1**: Programación secuencial\n",
    "- **Unidad 2**: Planificación de la programación\n",
    "- **Unidad 3**: Fundamentos de los tipos de datos numéricos y operaciones aritméticas\n",
    "- **Unidad 4**: Variables e insumos\n",
    "- **Unidad 5**: Operaciones lógicas y de comparación\n",
    "- **Unidad 6**: Enunciado condicional-1: Condiciones y toma de decisiones\n",
    "- **Unidad 7**: Enunciado condicional-2: Tomar decisiones en dos direcciones y aplicar enunciados condicionales\n",
    "- **Unidad 8**: Bucle-1\n",
    "- **Unidad 9**: Bucle-2\n"
   ]
  },
  {
   "cell_type": "markdown",
   "id": "ac1e9b02",
   "metadata": {
    "id": "ac1e9b02"
   },
   "source": [
    "# Actividad: Concepto de algoritmo.\n",
    "\n",
    "Escriba son sus propias palabras el concepto que tiene de algoritmo.\n",
    "\n",
    "**Respuesta:**\n",
    "Un algoritmo considero que es una sucesión de pasos, los cuales llevan un orden lógico, el cuál no debe saltarse ningun paso para garantizar que el algoritmo funcione debidamente.\n",
    "\n",
    "\n",
    "\n",
    "**Algoritmos cotidiano**\n",
    "Escriba con detalles algún algoritmo que usted haya desarrollado continuamente durante sus actividades diarias.\n",
    "    \n",
    "- 1- Conectar a la corriente la PC\n",
    "- 2- Encender la PC\n",
    "- 3- Abrir el navegador\n",
    "- 4- Abrir una pestaña con el campus de la universidad\n",
    "- 5- Ir revisando cada asignatura para revisar si hay contenido nuevo o tareas\n",
    "- 6- Si hay contenido nuevo o tareas, descargarlas\n",
    "- 7- Almacenarlas en carpetas especificas de la semana correspondiente\n",
    "- 8- Realizar la respectiva lectura de los materiales\n",
    "- 9- Realizar las tareas correspondientes"
   ]
  },
  {
   "cell_type": "markdown",
   "id": "0da9ca7e",
   "metadata": {
    "id": "0da9ca7e"
   },
   "source": [
    "# Actividad: Programación secuencial.\n",
    "\n",
    "A continuación nombre las 3 estructuras básicas de programación.\n",
    "\n",
    "Espacio para respuestas:\n",
    "    \n",
    "- 1- Secuencia\n",
    "- 2- Selección\n",
    "- 3- Iteración\n",
    "\n"
   ]
  },
  {
   "cell_type": "markdown",
   "id": "4b761414",
   "metadata": {
    "id": "4b761414"
   },
   "source": [
    "# Actividad: Revise y escriba los comandos utilizados para crear y activar\n",
    "\n",
    "# un entorno virtual.\n",
    "\n",
    "Escriba el comando usado para crear un entorno virtual, agrege un comentaria sobre su funcionamiento al aldo del comando.\n",
    "\n",
    "conda create -n nombre_entorno python=version #Crea un entorno virtual al cual se le coloca el nombre que uno desee y en donde dice versión se coloca la versión que se usará de python, por ejemplo 3.7 o 3.8\n",
    "\n",
    "**Lista de Comandos:**\n",
    "\n",
    "Enumere algunas de las ventajas de usar un entorno virtual.\n",
    "\n",
    "\n",
    "    1- Control de versiones\n",
    "    2- Organización de proyectos\n",
    "    3- Prevención de conflictos por las versiones de python\n",
    "\n"
   ]
  },
  {
   "cell_type": "markdown",
   "id": "49829fb9",
   "metadata": {
    "id": "49829fb9"
   },
   "source": [
    "# Tipos de datos numéricos y operaciones matemáticas.\n",
    "\n",
    "Ejecuta el código de la siguiente celda, verifica el tipo de dato retornado en cada una de las asignaciones, para ello use el comando type(variable) en combinacion con el comando print()\n",
    "\n"
   ]
  },
  {
   "cell_type": "code",
   "execution_count": 7,
   "id": "96922b41",
   "metadata": {
    "colab": {
     "base_uri": "https://localhost:8080/"
    },
    "id": "96922b41",
    "outputId": "1b5119c5-0530-4e86-e472-4329e6135bd7"
   },
   "outputs": [
    {
     "name": "stdout",
     "output_type": "stream",
     "text": [
      "La variable es de tipo:  <class 'str'>\n",
      "La variable es de tipo:  <class 'int'>\n",
      "La variable es de tipo:  <class 'float'>\n",
      "La variable es de tipo:  <class 'list'>\n",
      "La variable es de tipo:  <class 'dict'>\n"
     ]
    }
   ],
   "source": [
    "inf = \"La variable es de tipo: \"\n",
    "\n",
    "texto = 'Hola! bienvenido al mundo de la programación'\n",
    "# Escribe acá el código necesario para verificar el tipo de variable.\n",
    "print(inf, type(texto));\n",
    "\n",
    "entero = 4\n",
    "# Escribe acá el código necesario para verificar el tipo de variable.\n",
    "print(inf, type(entero));\n",
    "\n",
    "valor_flotante = 3.4\n",
    "# Escribe acá el código necesario para verificar el tipo de variable.\n",
    "print(inf, type(valor_flotante));\n",
    "\n",
    "ejemplo_de_lista = [1,2,3,4,4]\n",
    "# Escribe acá el código necesario para verificar el tipo de variable.\n",
    "print(inf, type(ejemplo_de_lista));\n",
    "\n",
    "ejemplo_de_diccionario = {'name':'Jhon Doe','edge':64}\n",
    "# Escribe acá el código necesario para verificar el tipo de variable.\n",
    "print(inf, type(ejemplo_de_diccionario));\n",
    "\n",
    "\n"
   ]
  },
  {
   "cell_type": "markdown",
   "id": "c718ddbf",
   "metadata": {
    "id": "c718ddbf"
   },
   "source": [
    "### **Actividad: Operaciones Matemáticas en Python**\n",
    "\n",
    "En esta actividad, realizarás operaciones matemáticas básicas en Python.\n",
    "\n",
    "#### **Instrucciones:**\n",
    "\n",
    "1. Crea una variable `numero1` y asígnale un número entero.\n",
    "2. Crea una variable `numero2` y asígnale otro número entero.\n",
    "3. Suma los valores de `numero1` y `numero2`, y almacena el resultado en una variable llamada `suma`.\n",
    "4. Resta `numero2` de `numero1` y almacena el resultado en una variable llamada `resta`.\n",
    "5. Multiplica `numero1` y `numero2`, y almacena el resultado en una variable llamada `multiplicacion`.\n",
    "6. Divide `numero1` entre `numero2` y almacena el resultado en una variable llamada `division`.\n",
    "\n",
    "Completa el código en Python con las operaciones y luego imprime los valores de `suma`, `resta`, `multiplicacion`, y `division`."
   ]
  },
  {
   "cell_type": "code",
   "execution_count": 2,
   "id": "71ff6ca5",
   "metadata": {
    "colab": {
     "base_uri": "https://localhost:8080/"
    },
    "id": "71ff6ca5",
    "outputId": "68c83e0f-65bb-45de-d1af-ae0c13c6e15c"
   },
   "outputs": [
    {
     "name": "stdout",
     "output_type": "stream",
     "text": [
      "Los numeros son:  Numero 1: 2, Numero 2: 4\n",
      "Suma:  6\n",
      "Resta:  2\n",
      "Multiplicación:  8\n",
      "División:  0.5\n"
     ]
    }
   ],
   "source": [
    "# Desarrolla el código en la siguiente celda.\n",
    "numero1 = 2\n",
    "numero2 = 4\n",
    "\n",
    "suma = numero1 + numero2\n",
    "\n",
    "resta = numero2 - numero1\n",
    "\n",
    "multi = numero1 * numero2\n",
    "\n",
    "divis = numero1 / numero2\n",
    "\n",
    "print(\"Los numeros son: \", f\"Numero 1: {numero1},\", f\"Numero 2: {numero2}\")\n",
    "\n",
    "print(\"Suma: \", suma)\n",
    "\n",
    "print(\"Resta: \", resta)\n",
    "\n",
    "print(\"Multiplicación: \", multi)\n",
    "\n",
    "print(\"División: \", divis)\n",
    "\n",
    "\n",
    "\n",
    "\n",
    "\n",
    "\n",
    "\n",
    "\n",
    "\n",
    "\n"
   ]
  },
  {
   "cell_type": "markdown",
   "id": "5a0d7513",
   "metadata": {
    "id": "5a0d7513"
   },
   "source": [
    "# Resumen de los operadores lógicos usados en Python.\n",
    "\n",
    "\n",
    "\n",
    "\n",
    "| **Operador** | **Descripción**                        |\n",
    "|:------------:|:--------------------------------------:|\n",
    "|    `and`     | <span style=\"font-size:larger\">Devuelve True si ambos operandos son True.</span> |\n",
    "|     `or`     | <span style=\"font-size:larger\">Devuelve True si al menos uno de los operandos es True.</span> |\n",
    "|    `not`     | <span style=\"font-size:larger\">Invierte el valor del operando; True se convierte en False y viceversa.</span> |\n"
   ]
  },
  {
   "cell_type": "code",
   "execution_count": null,
   "id": "978c0b04",
   "metadata": {
    "id": "978c0b04"
   },
   "outputs": [],
   "source": []
  },
  {
   "cell_type": "markdown",
   "id": "3db9e2cb",
   "metadata": {
    "id": "3db9e2cb"
   },
   "source": [
    "<!DOCTYPE html>\n",
    "<html>\n",
    "<head>\n",
    "<style>\n",
    "  table {\n",
    "    font-size: 24px;\n",
    "  }\n",
    "  th, td {\n",
    "    padding: 10px;\n",
    "    text-align: center;\n",
    "  }\n",
    "</style>\n",
    "</head>\n",
    "<body>\n",
    "  <h2>Comparadores Lógicos en Python</h2>\n",
    "  <table>\n",
    "    <tr>\n",
    "      <th><b>Comparadores</b></th>\n",
    "      <th><b>Descripción</b></th>\n",
    "    </tr>\n",
    "    <tr>\n",
    "      <td>==</td>\n",
    "      <td>Igual a (compara si dos valores son iguales)</td>\n",
    "    </tr>\n",
    "    <tr>\n",
    "      <td>!=</td>\n",
    "      <td>Diferente de (compara si dos valores son distintos)</td>\n",
    "    </tr>\n",
    "    <tr>\n",
    "      <td>&lt;</td>\n",
    "      <td>Menor que (compara si un valor es menor que otro)</td>\n",
    "    </tr>\n",
    "    <tr>\n",
    "      <td>&gt;</td>\n",
    "      <td>Mayor que (compara si un valor es mayor que otro)</td>\n",
    "    </tr>\n",
    "    <tr>\n",
    "      <td>&lt;=</td>\n",
    "      <td>Menor o igual que (compara si un valor es menor o igual que otro)</td>\n",
    "    </tr>\n",
    "    <tr>\n",
    "      <td>&gt;=</td>\n",
    "      <td>Mayor o igual que (compara si un valor es mayor o igual que otro)</td>\n",
    "    </tr>\n",
    "  </table>\n",
    "</body>\n",
    "</html>\n"
   ]
  },
  {
   "cell_type": "markdown",
   "id": "1de5a5f0",
   "metadata": {
    "id": "1de5a5f0"
   },
   "source": [
    "### **Actividad: Uso de operadores**\n",
    "\n",
    "En esta actividad, usaras los operadores\n",
    "\n",
    "#### **Instrucciones:**\n",
    "\n",
    "1. Generar un loop que revise cada uno de los elementos contenidos en la lista llamada \"lista_de_elementos\".\n",
    "2. Revisar el tipo de elemento.\n",
    "3. Comparar si el valor esta por debajo del umbral definido, en ese caso imprimir la palabra ¨aprobado¨ en caso contrario imprimir ¨Rechazado¨\n",
    "4. En el código incluya dos contadores, para contabilizar el número de aprobados y rechazados, al final del codigo imprima el total de cada uno de ellos.\n",
    "5. Contabilize los elementos que son tipo string y de igual forma imprima final del loop el resultado.\n"
   ]
  },
  {
   "cell_type": "code",
   "execution_count": 15,
   "id": "89eafba9",
   "metadata": {
    "colab": {
     "base_uri": "https://localhost:8080/"
    },
    "id": "89eafba9",
    "outputId": "849a9306-7582-4b3e-eaac-2435cdb155f5"
   },
   "outputs": [
    {
     "name": "stdout",
     "output_type": "stream",
     "text": [
      "Aprobado:  10\n",
      "Aprobado:  3.14\n",
      "Aprobado:  -5\n",
      "Aprobado:  42\n",
      "Aprobado:  -8.9\n",
      "Aprobado:  100.5\n",
      "Rechazado:  -15\n",
      "Aprobado:  5.5\n",
      "Rechazado:  -20\n",
      "Aprobado:  123\n",
      "Aprobado:  -2.5\n",
      "\n",
      "Loop finalizado :)\n",
      "\n",
      "Total aprobados:  9\n",
      "Total rechazados:  2\n",
      "Total de strings:  10\n"
     ]
    }
   ],
   "source": [
    "\n",
    "umbral = - 10\n",
    "lista_de_elementos = elementos = [10, 3.14, \"7\", -5, \"2.718\", 42, \"Python\", -8.9, \"Hola\", 100.5, \"Mundo\", -15, \"GPT-3\", 5.5, \"AI\", -20, \"2023\", 123, \"OpenAI\", -2.5, \"Ejemplo\"]\n",
    "\n",
    "# Desarrollo loop del código principal.\n",
    "# En este espacio debes escribir el código siguiendo las instrucción de la celda anterior.\n",
    "aprobados = 0\n",
    "rechazados = 0\n",
    "conteo_strings = 0\n",
    "\n",
    "for elemento in lista_de_elementos:\n",
    "    if type(elemento) == str:\n",
    "        conteo_strings += 1\n",
    "\n",
    "    if type(elemento) == int or type(elemento) == float:\n",
    "        if elemento < umbral:\n",
    "            print(\"Rechazado: \", elemento)\n",
    "            rechazados += 1\n",
    "        else:\n",
    "            print(\"Aprobado: \", elemento)\n",
    "            aprobados += 1\n",
    "print(\"\\nLoop finalizado :)\\n\")\n",
    "\n",
    "\n",
    "\n",
    "print(\"Total aprobados: \", aprobados)\n",
    "print(\"Total rechazados: \", rechazados)\n",
    "print(\"Total de strings: \", conteo_strings)\n"
   ]
  }
 ],
 "metadata": {
  "colab": {
   "provenance": []
  },
  "kernelspec": {
   "display_name": "Python 3 (ipykernel)",
   "language": "python",
   "name": "python3"
  },
  "language_info": {
   "codemirror_mode": {
    "name": "ipython",
    "version": 3
   },
   "file_extension": ".py",
   "mimetype": "text/x-python",
   "name": "python",
   "nbconvert_exporter": "python",
   "pygments_lexer": "ipython3",
   "version": "3.12.4"
  }
 },
 "nbformat": 4,
 "nbformat_minor": 5
}
