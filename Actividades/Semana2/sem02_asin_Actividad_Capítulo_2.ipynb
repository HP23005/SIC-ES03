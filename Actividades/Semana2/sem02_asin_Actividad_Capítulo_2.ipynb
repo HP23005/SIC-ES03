{
 "cells": [
  {
   "cell_type": "markdown",
   "id": "5ad8356f",
   "metadata": {},
   "source": [
    "# Actividades Capítulo 2.\n",
    "\n",
    "\n",
    "# Concepto básico de programación e inicio en Python\n",
    "\n",
    "## Resumen de actividades\n",
    "\n",
    "- **Unidad 10.** Tipos de datos lista y tupla Tipos de datos lista y tupla\n",
    "- **Unidad 11.** Tipos de datos de diccionario Tipos de datos de diccionario\n",
    "- **Unidad 12.** Tipos de datos de secuencia\n",
    "- **Unidad 13.** Listas 2D\n",
    "- **Unidad 14.** Método del diccionario-1\n",
    "- **Unidad 15.** Método del diccionario-2\n",
    "- **Unidad 16.** Establecer tipos de datos\n"
   ]
  },
  {
   "cell_type": "markdown",
   "id": "8c5aa9c8",
   "metadata": {},
   "source": [
    "# Actividad: Creación de una Base de Datos en Python\n",
    "\n",
    "## Descripción\n",
    "\n",
    "A continuación debes crear una base de datos simple utilizando listas en Python. Una base de datos es una colección de datos organizados que se utilizan para almacenar y recuperar información. En este caso, simularemos una base de datos de estudiantes con información básica.\n",
    "\n",
    "## Instrucciones\n",
    "\n",
    "1. Crea un programa en Python que permita a los usuarios realizar las siguientes acciones:\n",
    "\n",
    "   a. Agregar un nuevo estudiante a la base de datos. Cada estudiante debe tener al menos un nombre, un número de identificación y una edad. Puedes utilizar una lista para almacenar estos datos.\n",
    "\n",
    "   b. Mostrar la lista de estudiantes en la base de datos.\n",
    "\n",
    "   c. Buscar un estudiante por su número de identificación y mostrar su información.\n",
    "\n",
    "   d. Actualizar la información de un estudiante existente en la base de datos.\n",
    "\n",
    "   e. Eliminar un estudiante de la base de datos.\n",
    "\n",
    "2. Utiliza listas de Python para almacenar la información de los estudiantes. Por ejemplo, puedes crear una lista de diccionarios, donde cada diccionario representa un estudiante con sus datos.\n",
    "\n",
    "3. Ofrece un menú interactivo que permita a los usuarios elegir las acciones que desean realizar en la base de datos.\n",
    "\n",
    "4. Implementa la lógica necesaria para cada acción, como agregar, buscar, actualizar o eliminar estudiantes.\n",
    "\n",
    "## Ejemplo de Base de Datos\n",
    "\n",
    "A continuación, se muestra un ejemplo de cómo podría verse una base de datos de estudiantes utilizando listas y diccionarios:\n",
    "\n",
    "```python\n",
    "base_de_datos = [\n",
    "    {\"nombre\": \"Juan\", \"id\": 1, \"edad\": 20},\n",
    "    {\"nombre\": \"María\", \"id\": 2, \"edad\": 22},\n",
    "    {\"nombre\": \"Carlos\", \"id\": 3, \"edad\": 21}\n",
    "]\n",
    "\n",
    "Desarrolle el código en la siguiente lista."
   ]
  },
  {
   "cell_type": "code",
   "execution_count": 14,
   "id": "5e359c35-4747-4c71-8fb1-d53c2cd4a8f3",
   "metadata": {},
   "outputs": [
    {
     "name": "stdout",
     "output_type": "stream",
     "text": [
      "\n",
      "    **************************************************\n",
      "        Menu\n",
      "            1. Ingresar Estudiante\n",
      "            2. Mostrar Estudiantes\n",
      "            3. Buscar Datos Estudiante\n",
      "            4. Actualizar Informacion de Estudiante\n",
      "            5. Eliminar estudiante\n",
      "            6. Salir\n",
      "    **************************************************\n",
      "        \n"
     ]
    },
    {
     "name": "stdin",
     "output_type": "stream",
     "text": [
      "Ingrese la opcion a elegir:  6\n"
     ]
    },
    {
     "name": "stdout",
     "output_type": "stream",
     "text": [
      "Saliendo :)\n"
     ]
    }
   ],
   "source": [
    "#Recuerde agregar comentarios donde se describa el funcionamiento de las diferentes secciones.\n",
    "base_de_datos = []\n",
    "\n",
    "def ingresar_estudiante(): # Metodo para ingresar los datos de un estudiante\n",
    "    nuevo_estudiante = {}\n",
    "    # Solicita el nombre, id y edad del estudiante, y los guarda en un diccionario\n",
    "    nuevo_estudiante[\"nombre\"] = input(\"Ingrese el nombre del estudiante: \")\n",
    "    nuevo_estudiante[\"id\"] = int(input(\"Ingrese el id del estudiante: \"))\n",
    "    nuevo_estudiante[\"edad\"] = int(input(\"Ingrese la edad del estudiante: \"))\n",
    "    # Agrega el nuevo diccionario (estudiante) a la lista base_de_datos\n",
    "    base_de_datos.append(nuevo_estudiante)\n",
    "\n",
    "def mostrar_ordenadamente(): # Metodo para mostrar los datos de los estudiantes\n",
    "    if base_de_datos:\n",
    "        contador = 0\n",
    "        # Recorre la lista base_de_datos para mostrar cada estudiante con su número respectivo\n",
    "        for estudiante in base_de_datos:\n",
    "            contador += 1\n",
    "            # Imprime la información del estudiante\n",
    "            print(f\"Estudiante {contador}(Nombre: {estudiante[\"nombre\"]}, ID: {estudiante[\"id\"]}, Edad: {estudiante[\"edad\"]})\")\n",
    "    else:\n",
    "        print(\"No hay estudiantes registrados\")\n",
    "\n",
    "def buscar_estudiante_id(): # Metodo para poder buscar un estudiante y mostrar sus datos, a traves de su id\n",
    "    try:\n",
    "        id_estudiante = int(input(\"Ingrese el id del estudiante a buscar: \"))\n",
    "\n",
    "        estudiante_existente = None\n",
    "        # Busca el estudiante en la lista base_de_datos comparando su ID\n",
    "        for estudiante in base_de_datos:\n",
    "            # Si se encuentra el estudiante, muestra sus datos, de lo contrario, indica que no fue encontrado\n",
    "            if estudiante[\"id\"] == id_estudiante:\n",
    "                estudiante_existente = estudiante\n",
    "                break\n",
    "\n",
    "        if estudiante_existente:\n",
    "            print(f\"Datos del estudiante: {estudiante_existente}\\n\")\n",
    "        else:\n",
    "            print(\"Estudiante no encontrado :(\")\n",
    "    except:\n",
    "        print(\"Intentelo de nuevo :(\")\n",
    "\n",
    "def actualizar_datos(): # Metodo para poder actualizar los datos de un estudiante existente, a traves de su id\n",
    "    try:\n",
    "        id_estudiante = int(input(\"Ingrese el id del estudiante a actualizar datos: \"))\n",
    "\n",
    "        estudiante_existente = None\n",
    "        # Busca el estudiante con el ID proporcionado en base_de_datos\n",
    "        for estudiante in base_de_datos:\n",
    "            if estudiante[\"id\"] == id_estudiante:\n",
    "                estudiante_existente = estudiante\n",
    "                break\n",
    "                \n",
    "        # Si se encuentra el estudiante, solicita los nuevos datos (nombre y edad) y los actualiza\n",
    "        if estudiante_existente:\n",
    "            print(f\"Datos del estudiante: {estudiante_existente}\\n\")\n",
    "\n",
    "            estudiante_existente[\"nombre\"] = input(\"Ingrese el nuevo nombre del estudiante: \")\n",
    "            estudiante_existente[\"edad\"] = int(input(\"Ingrese la nueva edad del estudiante: \"))\n",
    "        \n",
    "            print(\"Datos actualizados correctamente :)\")\n",
    "        else:\n",
    "            print(\"Estudiante no encontrado :(\")\n",
    "    except:\n",
    "        print(\"Intentelo de nuevo :(\")\n",
    "\n",
    "def eliminar_estudiante(): # Metodo para eliminar los datos de un estudiante existente \n",
    "    try:\n",
    "        id_estudiante = int(input(\"Ingrese el id del estudiante a eliminar: \"))\n",
    "\n",
    "        estudiante_eliminar = None\n",
    "        for estudiante in base_de_datos:\n",
    "                if estudiante[\"id\"] == id_estudiante:\n",
    "                    estudiante_eliminar = estudiante\n",
    "                    break\n",
    "\n",
    "        # Si se encuentra el estudiante, lo elimina de la lista base_de_datos\n",
    "        if estudiante_eliminar:\n",
    "            base_de_datos.remove(estudiante_eliminar)\n",
    "            print(f\"El estudiante con el ID {id_estudiante} ha sido eliminado correctamente :)\\n\")\n",
    "        else:\n",
    "            print(f\"No se encontró ningun estudiante con el ID {id_estudiante}.\")\n",
    "    except:\n",
    "        print(\"Intentelo de nuevo :(\")\n",
    "\n",
    "aster = \"*\" * 50\n",
    "\n",
    "while True:\n",
    "    # Menu\n",
    "    print(f'''\n",
    "    {aster}\n",
    "        Menu\n",
    "            1. Ingresar Estudiante\n",
    "            2. Mostrar Estudiantes\n",
    "            3. Buscar Datos Estudiante\n",
    "            4. Actualizar Informacion de Estudiante\n",
    "            5. Eliminar estudiante\n",
    "            6. Salir\n",
    "    {aster}\n",
    "        ''')\n",
    "\n",
    "    try: \n",
    "        opcion = int(input(\"Ingrese la opcion a elegir: \"))\n",
    "        # Según la opción seleccionada, ejecuta la función correspondiente\n",
    "        if opcion == 1:\n",
    "            ingresar_estudiante()\n",
    "        elif opcion == 2:\n",
    "            mostrar_ordenadamente()\n",
    "        elif opcion == 3:\n",
    "            buscar_estudiante_id()\n",
    "        elif opcion == 4:\n",
    "            actualizar_datos()\n",
    "        elif opcion == 5:\n",
    "            eliminar_estudiante()\n",
    "        elif opcion == 6:\n",
    "            print(\"Saliendo :)\")\n",
    "            break\n",
    "        else:\n",
    "            print(\"\\nOpcion no valida :(\")\n",
    "    except ValueError:\n",
    "        print(\"Intentelo de nuevo :D\")"
   ]
  },
  {
   "cell_type": "markdown",
   "id": "a11871f3",
   "metadata": {},
   "source": [
    "# Actividad: Rebanado de listas.\n",
    "\n",
    "Revisa la unidad 10,sección 5.3 aparece un resumen de los comandos para tomar secciones de una lista, aplica los comandos en la siguiente lista:\n",
    "\n",
    "\n",
    "list_notas = [15, 21, 24, 40, 13, 14, 18, 17, 14.5]\n",
    "\n"
   ]
  },
  {
   "cell_type": "code",
   "execution_count": 50,
   "id": "1e7a5371",
   "metadata": {},
   "outputs": [
    {
     "name": "stdout",
     "output_type": "stream",
     "text": [
      "[15, 24, 13, 18, 14.5]\n",
      "[21, 24, 40]\n",
      "[13, 14, 18, 17, 14.5]\n",
      "[15, 21, 24, 40, 13, 14]\n",
      "[15, 21, 24, 40, 13, 14, 18, 17, 14.5]\n",
      "[21, 40, 14]\n",
      "[18, 17, 14.5]\n",
      "[13, 14, 18]\n",
      "[14.5, 17, 18, 14, 13, 40, 24, 21, 15]\n",
      "[14.5, 18, 13, 24, 15]\n",
      "[21, 15]\n",
      "[40, 21]\n",
      "[40, 18]\n"
     ]
    }
   ],
   "source": [
    "# Espacio para desarrollar las pruebas, si tienes alguna duda o comentario adicional\n",
    "# lo puedes dejar planteado acá.\n",
    "\n",
    "list_notas = [15, 21, 24, 40, 13, 14, 18, 17, 14.5]\n",
    "print(list_notas[::2])\n",
    "print(list_notas[1:4])\n",
    "print(list_notas[4:])\n",
    "print(list_notas[:6])\n",
    "print(list_notas[:])\n",
    "print(list_notas[1:6:2])\n",
    "print(list_notas[-3:])\n",
    "print(list_notas[-5:-2])\n",
    "print(list_notas[::-1])\n",
    "print(list_notas[::-2])\n",
    "print(list_notas[1::-1])\n",
    "print(list_notas[3::-2])\n",
    "print(list_notas[3::3])"
   ]
  },
  {
   "cell_type": "markdown",
   "id": "a207d974",
   "metadata": {},
   "source": [
    "\n",
    "# Actividad: Diferentes métodos usados en listas.\n",
    "\n",
    "De la unidad 10, sección 6.3 revise los métodos disponibles para usar sobre las listas.\n",
    "\n",
    "Aplique los métodos disponibles sobre la lista mostrada en la siguiente celda. \n",
    "\n",
    "Nota: usando el método **sort()** ordene de mayor a menor y viceversa (Si es necesario revise documentación adicional relacionada sobre este método)\n"
   ]
  },
  {
   "cell_type": "code",
   "execution_count": 54,
   "id": "b4ac1d5a",
   "metadata": {},
   "outputs": [
    {
     "name": "stdout",
     "output_type": "stream",
     "text": [
      "[15, 21, 24, 40, 13, 14, 18, 13, 17, 14.5]\n",
      "6\n",
      "[15, 21, 24, 40, 13, 14, 18, 13, 17, 14.5, 90]\n",
      "0\n",
      "[15, 21, 24, 40, 40, 13, 14, 18, 13, 17, 14.5, 90]\n",
      "[15, 21, 24, 40, 13, 14, 18, 13, 17, 14.5, 90]\n",
      "[15, 21, 40, 13, 14, 18, 13, 17, 14.5, 90]\n",
      "[13, 13, 14, 14.5, 15, 17, 18, 21, 40, 90]\n",
      "[90, 40, 21, 18, 17, 15, 14.5, 14, 13, 13]\n",
      "[90, 40, 21, 18, 17, 15, 14.5, 14, 13, 13, 12, 14, 15, 18, 22]\n"
     ]
    }
   ],
   "source": [
    "# Aplique los métodos disponibles y agregue comentarios breves sobre su funcinamiento.\n",
    "\n",
    "list_notas = [15, 21, 24, 40, 13, 14, 18, 13, 17, 14.5]\n",
    "\n",
    "\n",
    "# Espacio para desarrollo del código y comentarios.\n",
    "print(list_notas)                 #Muestra la lista original\n",
    "\n",
    "index = list_notas.index(18)      #Muestra la posicion en la que se encuentra el 18 en la lista\n",
    "print(index)                      #Muestra lo anterior en consola\n",
    "\n",
    "list_notas.append(90)             #Agrega un elemento al final de la lista\n",
    "print(list_notas)                 #Muestra la lista actualizada con el elemento agregado\n",
    "\n",
    "count = list_notas.count(3)       #Cuenta la cantidad de elementos en la lista que coinciden con 3\n",
    "print(count)                      #Muestra la cantidad de 3 que hay en la lista\n",
    "\n",
    "list_notas.insert(3, 40)          #Inserta en la posicion 3 el elemento 40\n",
    "print(list_notas)                 #Muestra la lista actualizada\n",
    "\n",
    "list_notas.remove(40)             #Elimina el primer elemento que encuentre en la lista que coincida con 40\n",
    "print(list_notas)                 #Muestra la lista actualizada\n",
    "\n",
    "list_notas.pop(2)                 #Elimina el elemento en la posicion 2\n",
    "print(list_notas)                 #Muestra la lista actualizada\n",
    "\n",
    "list_notas.sort()                 #Muestra la lista de forma ascendente\n",
    "print(list_notas)                 #Muestra la lista ordenada de forma ascendente\n",
    "\n",
    "list_notas.reverse()              #Muestra la lista de forma descendente\n",
    "print(list_notas)                 #Muestra la lista ordenada de forma descendente\n",
    "\n",
    "nuevas_notas = [12, 14, 15, 18, 22]   #Nueva lista de notas\n",
    "list_notas.extend(nuevas_notas)   #Realiza una union de ambas listas\n",
    "print(list_notas)                 #Muestra la lista actualizada con las nuevas notas"
   ]
  },
  {
   "cell_type": "markdown",
   "id": "26a6bb9e",
   "metadata": {},
   "source": [
    "# Actividad: Crear diccionarios y guardarlos como archivo JSON.\n",
    "\n",
    "De la unidad 11 sección 4.6 revise el ejemplo mostrado.\n",
    "\n",
    "Genera un diccionario, sobre la información que deseas guardar como base de datos, desarrollo el código necesario para generar el archivo JSON, y también el código para cargar la información del archivo JSON.\n"
   ]
  },
  {
   "cell_type": "code",
   "execution_count": 82,
   "id": "6670eace",
   "metadata": {},
   "outputs": [
    {
     "name": "stdout",
     "output_type": "stream",
     "text": [
      "<class 'dict'>\n",
      "Juan Perez\n",
      "23\n",
      "ISC\n",
      "Katherine Martinez\n"
     ]
    }
   ],
   "source": [
    "import json\n",
    "# Espacio para desarrollar el código.\n",
    "base_de_datos = '''{\n",
    "    \"Nombre\": \"Juan Perez\",\n",
    "    \"Edad\": \"23\",\n",
    "    \"Curso\": \"ISC\",\n",
    "    \"Tutor\": \"Katherine Martinez\"\n",
    "        }'''\n",
    "\n",
    "json_data = json.loads(base_de_datos)\n",
    "\n",
    "with open('datos.json', 'w') as f:\n",
    "    json.dump(json_data, f, indent = '\\t')\n",
    "\n",
    "print(type(json_data))\n",
    "print(json_data[\"Nombre\"])\n",
    "print(json_data[\"Edad\"])\n",
    "print(json_data[\"Curso\"])\n",
    "print(json_data[\"Tutor\"])"
   ]
  },
  {
   "cell_type": "markdown",
   "id": "fbfb4985",
   "metadata": {},
   "source": [
    "# Actividad: Creación y manejo de tuplas.\n",
    "\n",
    "## Instrucciones\n",
    "\n",
    "1. Escriba una diferencia entre las tuplas y las listas.\n",
    "2. Crear una tupla con varios elementos.\n",
    "3. Usar el operador in para verificar si la tuple contiene determinado elemento.\n"
   ]
  },
  {
   "cell_type": "code",
   "execution_count": 24,
   "id": "fc5b1a43",
   "metadata": {},
   "outputs": [
    {
     "name": "stdout",
     "output_type": "stream",
     "text": [
      "<class 'tuple'>\n",
      "<class 'list'>\n",
      "('Hola', 'Buen', 'Dia', 2024, 2025, 2026)\n"
     ]
    },
    {
     "name": "stdin",
     "output_type": "stream",
     "text": [
      "Ingrese 'str' para texto, 'int' para enteros:  int\n",
      "Ingrese el elemento del cual desea saber si existe:  2026\n"
     ]
    },
    {
     "name": "stdout",
     "output_type": "stream",
     "text": [
      "El elemento 2026 está en la tupla\n"
     ]
    }
   ],
   "source": [
    "# Espacio para desarrollar el código siguiendo las instrucciones.\n",
    "\n",
    "tup = (1, 2, 3, 4, 5)\n",
    "list = [1, 2, 3, 4, 5]\n",
    "\n",
    "print(type(tup))\n",
    "print(type(list))\n",
    "\n",
    "# La primera diferencia notable es que los datos de una tupla estan dentro de \"()\" y los de una lista estan dentro de \"[]\"\n",
    "# Las tublas son inmutables lo que significa que sus elementos no pueden ser modificados\n",
    "# Las listas son mutables lo que significa que se pueden modificar sus elementos\n",
    "\n",
    "tupla = (\"Hola\", \"Buen\", \"Dia\", 2024, 2025, 2026)\n",
    "print(tupla)\n",
    "\n",
    "opcion = input(\"Ingrese 'str' para texto, 'int' para enteros: \")\n",
    "if opcion == \"str\":\n",
    "    elemento = input(\"Ingrese el elemento del cual desea saber si existe: \")\n",
    "elif opcion == \"int\":\n",
    "    elemento = int(input(\"Ingrese el elemento del cual desea saber si existe: \"))\n",
    "else:\n",
    "    print(\"Opcion no valida\")\n",
    "\n",
    "if elemento is not None:\n",
    "    if elemento in tupla:\n",
    "        print(f\"El elemento {elemento} está en la tupla\")\n",
    "    else:\n",
    "        print(f\"El elemento {elemento} no está en la tupla\")"
   ]
  },
  {
   "cell_type": "markdown",
   "id": "98938d2d",
   "metadata": {},
   "source": [
    "# Actividad: Revisión y manejo de listas bidimensionales.\n",
    "\n",
    "## Instrucciones\n",
    "\n",
    "1. Describa brevemente que entiende por lista bidimensional.\n",
    "2. Crear una lista bidimensional.\n",
    "3. Generar un doble loop para acceder de la lista bidimensional\n",
    "4. Sumar todo los elementos de esta lista bidimensional."
   ]
  },
  {
   "cell_type": "code",
   "execution_count": 32,
   "id": "a35ef1b7",
   "metadata": {},
   "outputs": [
    {
     "name": "stdout",
     "output_type": "stream",
     "text": [
      "13 26 31 \n",
      "34 25 86 \n",
      "47 88 91 \n",
      "La suma total de elementos es: 441\n"
     ]
    }
   ],
   "source": [
    "# Espacio para desarrollar el código, escriba comentarias breves para explicar su funcionamiento.\n",
    "\n",
    "# Una lista bidimensional es una lista la cual tiene dentro de ella tuplas u otras listas de datos\n",
    "list_bidim = [(13, 26, 31), (34, 25, 86), (47, 88, 91)]\n",
    "\n",
    "suma = 0\n",
    "for fila in list_bidim:\n",
    "    for elemento in fila:\n",
    "        print(elemento, end = \" \")\n",
    "        suma += elemento\n",
    "    print()\n",
    "\n",
    "print(f\"La suma total de elementos es: {suma}\")"
   ]
  },
  {
   "cell_type": "markdown",
   "id": "4261fa65",
   "metadata": {},
   "source": [
    "# Actividad: Revision de los métodos usados en el manejo de diccionarios.\n",
    "\n",
    "## Instrucciones\n",
    "\n",
    "1. Crear un diccionario.\n",
    "2. Testear los siguientes métodos para el majeo de diccionarios get(), keys(), values(), items(), pop(), clear()\n",
    "3. Agregar un breve comentario sobre su funcionamiento."
   ]
  },
  {
   "cell_type": "code",
   "execution_count": 38,
   "id": "2f5887bb",
   "metadata": {},
   "outputs": [
    {
     "name": "stdout",
     "output_type": "stream",
     "text": [
      "Nombre: Mi madrina\n",
      "\n",
      "Claves: dict_keys(['Titulo', 'Autor', 'Editorial'])\n",
      "\n",
      "Valores: dict_values(['Mi madrina', 'Carlos Luis Fallas', 'Imprenta Falcó'])\n",
      "\n",
      "Items: dict_items([('Titulo', 'Mi madrina'), ('Autor', 'Carlos Luis Fallas'), ('Editorial', 'Imprenta Falcó')])\n",
      "\n",
      "Editorial eliminada: Imprenta Falcó\n",
      "Diccionario después de pop: {'Titulo': 'Mi madrina', 'Autor': 'Carlos Luis Fallas'}\n",
      "\n",
      "Diccionario después de clear: {}\n"
     ]
    }
   ],
   "source": [
    "# Espacio para desarrollar el código.\n",
    "libro = {\n",
    "    \"Titulo\": \"Mi madrina\",\n",
    "    \"Autor\": \"Carlos Luis Fallas\",\n",
    "    \"Editorial\": \"Imprenta Falcó\"\n",
    "}\n",
    "\n",
    "titulo_libro = libro.get(\"Titulo\") # Devuelve un valor a traves de una clave\n",
    "print(f\"Nombre: {titulo_libro}\")\n",
    "print()\n",
    "claves = libro.keys() # Muestra las claves sin los valores del diccionario\n",
    "print(f\"Claves: {claves}\")\n",
    "print()\n",
    "valores = libro.values() # Muestra los valores dentro del diccionario sin las claves\n",
    "print(f\"Valores: {valores}\")\n",
    "print()\n",
    "items = libro.items() # Muestra las tuplas de datos que hay dentro del diccionario\n",
    "print(f\"Items: {items}\")\n",
    "print()\n",
    "editorial = libro.pop(\"Editorial\") #Elimina una clave dentro del diccionario\n",
    "print(f\"Editorial eliminada: {editorial}\")\n",
    "print(f\"Diccionario después de pop: {libro}\")\n",
    "print()\n",
    "libro.clear() #Elimina los datos o elementos dentro del diccionario dejandolo vacio\n",
    "print(f\"Diccionario después de clear: {libro}\")"
   ]
  },
  {
   "cell_type": "code",
   "execution_count": null,
   "id": "fbb41b7e-5f55-4cd1-a015-6adda55da334",
   "metadata": {},
   "outputs": [],
   "source": []
  }
 ],
 "metadata": {
  "kernelspec": {
   "display_name": "Python 3 (ipykernel)",
   "language": "python",
   "name": "python3"
  },
  "language_info": {
   "codemirror_mode": {
    "name": "ipython",
    "version": 3
   },
   "file_extension": ".py",
   "mimetype": "text/x-python",
   "name": "python",
   "nbconvert_exporter": "python",
   "pygments_lexer": "ipython3",
   "version": "3.12.4"
  }
 },
 "nbformat": 4,
 "nbformat_minor": 5
}
