{
 "cells": [
  {
   "cell_type": "markdown",
   "id": "5d671b98",
   "metadata": {},
   "source": [
    "# Coding and Programming\n",
    "\n",
    "## Capítulo 4\n",
    "\n",
    "### Estructuras de Datos\n",
    "\n",
    "- **Unidad 17.** Pila\n",
    "- **Unidad 18.** Cola\n",
    "- **Unidad 19.** Búsqueda Binaria\n",
    "- **Unidad 20.** Tabla Hash\n",
    "\n",
    "# Quiz 4"
   ]
  },
  {
   "cell_type": "markdown",
   "id": "2e42031a",
   "metadata": {},
   "source": [
    "___"
   ]
  },
  {
   "cell_type": "markdown",
   "id": "33866775",
   "metadata": {},
   "source": [
    "## Q 22-01\n",
    "\n",
    "La siguiente es la implantación de una pila. ¿Cuál será el resultado del siguiente código?\n",
    "\n",
    "```\n",
    "stack = Stack()\n",
    "stack.push(\"Banana\")\n",
    "stack.push(\"Apple\")\n",
    "stack.push(\"Tomato\")\n",
    "stack.pop()\n",
    "stack.push(\"Strawberry\")\n",
    "stack.push(\"Grapes\")\n",
    "stack.pop()\n",
    "print(stack.stack)\n",
    "```\n",
    "\n",
    "**Respuesta:**"
   ]
  },
  {
   "cell_type": "markdown",
   "id": "81816b7e",
   "metadata": {},
   "source": [
    "Lo que mostrará es una lista con los siguientes elementos: [\"Banana\", \"Apple\", \"Strawberry\"]\n",
    "Primero se agregan a la pila 3 elementos: Banana, Apple, Tomato\n",
    "Pero al usar el pop se nos elimina el elemento Tomato quedandonos: Banana, Apple\n",
    "Luego se agregan 2 elementos mas: Strawberry, Grapes\n",
    "Al usar el pop se nos elimina el elemento Grapes, la pila nos queda como: Banana, Apple, Strawberry"
   ]
  },
  {
   "cell_type": "markdown",
   "id": "2dbba0e2",
   "metadata": {},
   "source": [
    "___"
   ]
  },
  {
   "cell_type": "markdown",
   "id": "8d8ca892",
   "metadata": {},
   "source": [
    "## Q 22-02\n",
    "\n",
    "La siguiente es la implantación de una pila. ¿Cuál será el resultado del siguiente código?\n",
    "\n",
    "```\n",
    "stack = Stack()\n",
    "items = [10 * i for i in range(1,10)]\n",
    "for item in items:\n",
    "    stack.push(item)\n",
    "    if (item // 10) % 2 == 0:\n",
    "        stack.pop()\n",
    "print(stack.stack)\n",
    "```\n",
    "\n",
    "**Respuesta:**"
   ]
  },
  {
   "cell_type": "markdown",
   "id": "6cae5645",
   "metadata": {},
   "source": [
    "items es una lista que multiplicara al 10 por el rango entre el 1 al 10-1, quedando la lista como [10, 20, 30, 40, 50, 60, 70, 80, 90]\n",
    "Al entrar en el bucle for pasamos a un condicional if que tiene la siguiente condicion (item // 10) % 2 == 0, esto hace que primero realiza una division entera de cada item de la lista, luego es dividido entre 2 y nos devuelve el residuo con el operador %, y hace la comparacion con 0, si esto es verdad realiza un pop a ese elemento, de lo contrario lo deja en la lista, tomando esto en cuenta nos devolvera unicamente los numeros que sean impares y sacara los numeros que sean pares de la lista al pasar por la division item // 10, quedando la lista: [10, 30, 50, 70, 90]"
   ]
  },
  {
   "cell_type": "code",
   "execution_count": 6,
   "id": "5b839192-3a02-4ea2-a74c-aa6d43d60ae4",
   "metadata": {},
   "outputs": [
    {
     "data": {
      "text/plain": [
       "False"
      ]
     },
     "execution_count": 6,
     "metadata": {},
     "output_type": "execute_result"
    }
   ],
   "source": [
    "(10 // 10) % 2 == 0"
   ]
  },
  {
   "cell_type": "code",
   "execution_count": 16,
   "id": "82714300-a4c1-4689-a867-3d65dd753b1c",
   "metadata": {},
   "outputs": [
    {
     "data": {
      "text/plain": [
       "True"
      ]
     },
     "execution_count": 16,
     "metadata": {},
     "output_type": "execute_result"
    }
   ],
   "source": [
    "(20 // 10) % 2 == 0"
   ]
  },
  {
   "cell_type": "code",
   "execution_count": 18,
   "id": "2c129c26-8ff7-4bf4-8da3-c281b4ba64bd",
   "metadata": {},
   "outputs": [
    {
     "data": {
      "text/plain": [
       "False"
      ]
     },
     "execution_count": 18,
     "metadata": {},
     "output_type": "execute_result"
    }
   ],
   "source": [
    "(30 // 10) % 2 == 0"
   ]
  },
  {
   "cell_type": "code",
   "execution_count": 20,
   "id": "c1a49e2a-3ed4-4789-88a7-0e980f2bcb56",
   "metadata": {},
   "outputs": [
    {
     "data": {
      "text/plain": [
       "True"
      ]
     },
     "execution_count": 20,
     "metadata": {},
     "output_type": "execute_result"
    }
   ],
   "source": [
    "(40 // 10) % 2 == 0"
   ]
  },
  {
   "cell_type": "code",
   "execution_count": 22,
   "id": "66709b4e-5e2b-43f5-8367-c56ea73c3f36",
   "metadata": {},
   "outputs": [
    {
     "data": {
      "text/plain": [
       "False"
      ]
     },
     "execution_count": 22,
     "metadata": {},
     "output_type": "execute_result"
    }
   ],
   "source": [
    "(50 // 10) % 2 == 0"
   ]
  },
  {
   "cell_type": "code",
   "execution_count": 24,
   "id": "11c743fa-8981-4fed-8baa-68ebeb7b5350",
   "metadata": {},
   "outputs": [
    {
     "data": {
      "text/plain": [
       "True"
      ]
     },
     "execution_count": 24,
     "metadata": {},
     "output_type": "execute_result"
    }
   ],
   "source": [
    "(60 // 10) % 2 == 0"
   ]
  },
  {
   "cell_type": "code",
   "execution_count": 26,
   "id": "b1033bb7-01a5-4a5e-b33f-d3f73cb83e22",
   "metadata": {},
   "outputs": [
    {
     "data": {
      "text/plain": [
       "False"
      ]
     },
     "execution_count": 26,
     "metadata": {},
     "output_type": "execute_result"
    }
   ],
   "source": [
    "(70 // 10) % 2 == 0"
   ]
  },
  {
   "cell_type": "code",
   "execution_count": 28,
   "id": "07456a7d-93cd-4cde-b9e0-e139648d1560",
   "metadata": {},
   "outputs": [
    {
     "data": {
      "text/plain": [
       "True"
      ]
     },
     "execution_count": 28,
     "metadata": {},
     "output_type": "execute_result"
    }
   ],
   "source": [
    "(80 // 10) % 2 == 0"
   ]
  },
  {
   "cell_type": "code",
   "execution_count": 30,
   "id": "5d5b27be-4bfc-40f8-98bf-336c92a686a2",
   "metadata": {},
   "outputs": [
    {
     "data": {
      "text/plain": [
       "False"
      ]
     },
     "execution_count": 30,
     "metadata": {},
     "output_type": "execute_result"
    }
   ],
   "source": [
    "(90 // 10) % 2 == 0"
   ]
  },
  {
   "cell_type": "markdown",
   "id": "9c101740",
   "metadata": {},
   "source": [
    "___"
   ]
  },
  {
   "cell_type": "markdown",
   "id": "490f04a8",
   "metadata": {},
   "source": [
    "## Q 23-01\n",
    "\n",
    "La siguiente es la implantación de una pila. ¿Cuál será el resultado del siguiente código?\n",
    "\n",
    "```\n",
    "queue = Queue()\n",
    "queue.enqueue(\"Banana\")\n",
    "queue.enqueue(\"Apple\")\n",
    "queue.enqueue(\"Tomato\")\n",
    "queue.dequeue()\n",
    "queue.enqueue(\"Strawberry\")\n",
    "queue.enqueue(\"Grapes\")\n",
    "queue.dequeue()\n",
    "print(queue.queue)\n",
    "```\n",
    "\n",
    "**Respuesta:**"
   ]
  },
  {
   "cell_type": "markdown",
   "id": "f4b7a1b4",
   "metadata": {},
   "source": [
    "La lista que se mostrara al final sera: [\"Tomato\", \"Strawberry\", \"Grapes\"]\n",
    "Primero se agregan los elementos Banana, Apple, Tomato\n",
    "Luego con el dequeue se elimina el primer elemento que es Tomato, quedando la lista como Apple, Tomato\n",
    "Despues se agregan dos elementos mas: Strawberry, Grapes\n",
    "Al aplicar el siguiente dequeue, la lista nos queda como Tomato, Strawberry, Grapes"
   ]
  },
  {
   "cell_type": "markdown",
   "id": "4811d8fa",
   "metadata": {},
   "source": [
    "___"
   ]
  },
  {
   "cell_type": "markdown",
   "id": "680514b8",
   "metadata": {},
   "source": [
    "## Q 23-02\n",
    "\n",
    "La siguiente es la implantación de una cola. ¿Cuál será el resultado del siguiente código?\n",
    "\n",
    "```\n",
    "queue = Queue()\n",
    "items = [10 * i for i in range(1,10)]\n",
    "for item in items:\n",
    "    queue.enqueue(item)\n",
    "    if (item // 10) % 2 == 0:\n",
    "        queue.dequeue()\n",
    "print(queue.queue)\n",
    "```\n",
    "\n",
    "**Respuesta:**"
   ]
  },
  {
   "cell_type": "markdown",
   "id": "d1399404",
   "metadata": {},
   "source": [
    "items es una lista que multiplicara al 10 por el rango entre el 1 al 10-1, quedando la lista como [10, 20, 30, 40, 50, 60, 70, 80, 90] Al entrar en el bucle for pasamos a un condicional if que tiene la siguiente condicion (item // 10) % 2 == 0, esto hace que primero realiza una division entera de cada item de la lista, luego es dividido entre 2 y nos devuelve el residuo con el operador %, y hace la comparacion con 0, si esto es verdad realiza un dequeue al primer elemento de la lista cada vez que la condicion sea verdadera, y como la condicion vimos en el ejercicio Q 22-02 que da 4 veces como verdadera significa que eliminaremos los primeros 4 elementos de la lista quedandonos la lista final como: [50, 60, 70, 80, 90]"
   ]
  },
  {
   "cell_type": "markdown",
   "id": "b16e0741",
   "metadata": {},
   "source": [
    "___"
   ]
  },
  {
   "cell_type": "markdown",
   "id": "5f2fe9e8",
   "metadata": {},
   "source": [
    "## Q 24-01\n",
    "\n",
    "¿Cuál es el algoritmo de la siguiente función `find_two()`?\n",
    "```\n",
    "def find_two():\n",
    "    x = y = 0\n",
    "    for i in range(1, len(nums)):\n",
    "        if nums[x] < nums[i]:\n",
    "            x = i\n",
    "        elif nums[y] > nums[i]:\n",
    "            y = i\n",
    "    return x,y\n",
    "\n",
    "nums = [11, 37, 45, 26, 59, 28, 17, 53]\n",
    "i,j = find_two(nums)\n",
    "print(nums[i], nums[j])\n",
    "```\n",
    "Analice el código y escriba el resultado de la ejecución."
   ]
  },
  {
   "cell_type": "markdown",
   "id": "0407f911",
   "metadata": {},
   "source": [
    "'x' y 'y' toman el valor de 0\n",
    "Recorre el resto de la lista, comenzando desde el índice 1;\n",
    "Si el valor en nums[x] es menor que el valor actual nums[i], asigna el índice i a x, que es el índice del valor máximo encontrado hasta el momento;\n",
    "de lo contrario Si el valor en nums[y] es mayor que el valor actual nums[i], asigna el índice i a y, que es el índice del valor mínimo encontrado hasta el momento; por ultimo devuelve los índices x y y. El resultado de la ejecucion es el numero mas pequeño 11 y el numero mas grande 59."
   ]
  },
  {
   "cell_type": "markdown",
   "id": "bba31171",
   "metadata": {},
   "source": [
    "___"
   ]
  },
  {
   "cell_type": "markdown",
   "id": "36e47747",
   "metadata": {},
   "source": [
    "## Q 24-02\n",
    "\n",
    "¿Cuántas comparaciones debe realizar la función `find_two()` implementada en la pregunta anterior (24-01)?"
   ]
  },
  {
   "cell_type": "markdown",
   "id": "560f7505",
   "metadata": {},
   "source": [
    "Puede llegar a realizar 14 comparaciones ya que en el range que va de 1 a n cantidad de nums que tiene 8 elementos menos 1, nos da que el range va de 1 a 7, entonces estas 7 iteraciones que hara es de multiplicarlas por el numero de condicionales que son dos, entonces 7 por 2, nos da que find_two() puede llegar a realizar 14 comparaciones."
   ]
  },
  {
   "cell_type": "markdown",
   "id": "976b7b8e",
   "metadata": {},
   "source": [
    "___"
   ]
  },
  {
   "cell_type": "markdown",
   "id": "9fffd532",
   "metadata": {},
   "source": [
    "## Q 25-01\n",
    "\n",
    "El siguiente es el código para el juego de combinación de números.\n",
    "\n",
    "Si el máximo es 100 y el número es 51, ¿cuál es la salida de `count`?\n",
    "```\n",
    "from random import randint\n",
    "\n",
    "maximo = int(input(\"Ingrese el número maximo: \"))\n",
    "numero = int(input(\"Ingrese tu intento de adivinar el numero: \"))\n",
    "low, high = 1, maximo\n",
    "count = 0\n",
    "while low < high:\n",
    "    count += 1\n",
    "    mid = (low + high) // 2\n",
    "    if mid == numero:\n",
    "        print(f\"El número es {numero}\")\n",
    "        break\n",
    "    elif mid > numero:\n",
    "        high = mid - 1\n",
    "    else:\n",
    "        low  = mid + 1\n",
    "\n",
    "print(f\"Total {count} veces fue buscado.\")\n",
    "```"
   ]
  },
  {
   "cell_type": "markdown",
   "id": "2a351b8a",
   "metadata": {},
   "source": [
    "la salida de count es de 6"
   ]
  },
  {
   "cell_type": "markdown",
   "id": "c29e1c0c",
   "metadata": {},
   "source": [
    "___"
   ]
  },
  {
   "cell_type": "markdown",
   "id": "c185d96c",
   "metadata": {},
   "source": [
    "## Q 25-02\n",
    "\n",
    "En el código del juego de combinación de números, si el máximo es 100 y el número es 25, ¿cuál es el resultado del conteo?"
   ]
  },
  {
   "cell_type": "markdown",
   "id": "27353ddf",
   "metadata": {},
   "source": [
    "el resultado del conteo es de 2"
   ]
  },
  {
   "cell_type": "markdown",
   "id": "662d5bfd",
   "metadata": {},
   "source": [
    "___"
   ]
  },
  {
   "cell_type": "markdown",
   "id": "eb266a1e",
   "metadata": {},
   "source": [
    "## Q 26-01\n",
    "\n",
    "Usando la función hash de la clase HashTable, calcule la clave y la clave hash de \"Alicia en el país de las maravillas\" de la siguiente manera. (El valor clave es 1763.)\n",
    "```\n",
    "table = HashTable(8)\n",
    "book  = \"Alice in Wonderland\"\n",
    "key = sum(map(ord, book))\n",
    "print(key, table.hash(key))\n",
    "```"
   ]
  },
  {
   "cell_type": "code",
   "execution_count": 36,
   "id": "88e7bc34-c83d-4c38-9f07-70900fbcf547",
   "metadata": {},
   "outputs": [
    {
     "name": "stdout",
     "output_type": "stream",
     "text": [
      "Clave: 1795, Clave Hash: 3\n"
     ]
    }
   ],
   "source": [
    "class HashTable:\n",
    "    def __init__(self, size):\n",
    "        self.size = size\n",
    "        self.table = {}\n",
    "\n",
    "    def hash(self, key):\n",
    "        return key % self.size\n",
    "\n",
    "table = HashTable(8)\n",
    "book  = \"Alice in Wonderland\"\n",
    "key = sum(map(ord, book))\n",
    "print(f\"Clave: {key}, Clave Hash: {table.hash(key)}\")"
   ]
  },
  {
   "cell_type": "markdown",
   "id": "6ef27d31",
   "metadata": {},
   "source": [
    "___"
   ]
  },
  {
   "cell_type": "markdown",
   "id": "d4fd6f63",
   "metadata": {},
   "source": [
    "## Q 26-02\n",
    "\n",
    "Si la nueva estantería tiene 10 compartimentos, usa el siguiente código para averiguar qué libro hay en cada compartimento.\n",
    "```\n",
    "table = HashTable(10)\n",
    "books = [\n",
    "    \"The Little Prince\",\n",
    "    \"The Old Man and the Sea\",\n",
    "    \"The Little Memaid\",\n",
    "    \"Beauty and the Beast\",\n",
    "    \"The Last Leaf\",\n",
    "    \"Alice in Wonderland\",\n",
    "]\n",
    "\n",
    "for book in books:\n",
    "    key = sum(map(ord, book))\n",
    "    table.put(key, book)\n",
    "\n",
    "for key in table.table.key():\n",
    "    print(key, table.table[key])\n",
    "```"
   ]
  },
  {
   "cell_type": "code",
   "execution_count": 16,
   "id": "c0520b6b-8d36-4992-9abb-5e2f533a76b2",
   "metadata": {},
   "outputs": [
    {
     "name": "stdout",
     "output_type": "stream",
     "text": [
      "Compartimento 4: The Little Memaid\n",
      "Compartimento 9: The Old Man and the Sea\n",
      "Compartimento 7: Beauty and the Beast\n",
      "Compartimento 3: The Last Leaf\n",
      "Compartimento 5: Alice in Wonderland\n"
     ]
    }
   ],
   "source": [
    "class HashTable:\n",
    "    def __init__(self, size):\n",
    "        self.size = size\n",
    "        self.table = {}\n",
    "\n",
    "    def put(self, key, value):\n",
    "        index = key % self.size\n",
    "        self.table[index] = value\n",
    "\n",
    "table = HashTable(10)\n",
    "\n",
    "books = [\n",
    "    \"The Little Prince\",\n",
    "    \"The Old Man and the Sea\",\n",
    "    \"The Little Memaid\",\n",
    "    \"Beauty and the Beast\",\n",
    "    \"The Last Leaf\",\n",
    "    \"Alice in Wonderland\",\n",
    "]\n",
    "\n",
    "for book in books:\n",
    "    key = sum(map(ord, book))\n",
    "    table.put(key, book)\n",
    "\n",
    "for index in table.table.keys():\n",
    "    print(f\"Compartimento {index}: {table.table[index]}\")"
   ]
  },
  {
   "cell_type": "markdown",
   "id": "574b1c0f",
   "metadata": {},
   "source": [
    "___"
   ]
  },
  {
   "cell_type": "markdown",
   "id": "7f165fb5",
   "metadata": {},
   "source": [
    "# Fin"
   ]
  }
 ],
 "metadata": {
  "kernelspec": {
   "display_name": "Python 3 (ipykernel)",
   "language": "python",
   "name": "python3"
  },
  "language_info": {
   "codemirror_mode": {
    "name": "ipython",
    "version": 3
   },
   "file_extension": ".py",
   "mimetype": "text/x-python",
   "name": "python",
   "nbconvert_exporter": "python",
   "pygments_lexer": "ipython3",
   "version": "3.12.4"
  }
 },
 "nbformat": 4,
 "nbformat_minor": 5
}
