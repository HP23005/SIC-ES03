{
 "cells": [
  {
   "cell_type": "code",
   "execution_count": 25,
   "id": "4ab542dd-3ce2-40cc-ab24-2de64d618c51",
   "metadata": {},
   "outputs": [
    {
     "name": "stdout",
     "output_type": "stream",
     "text": [
      "¿Está vacío el Deque? True\n",
      "['Hola']\n",
      "['A', 'Hola']\n",
      "['A', 'Hola', 'Todos']\n",
      "Elemento eliminado:  A\n",
      "['Hola', 'Todos']\n",
      "Elemento eliminado:  Todos\n",
      "['Hola']\n",
      "¿Está vacío el Deque? False\n",
      "Elemento eliminado:  Hola\n",
      "[]\n",
      "¿Está vacío el Deque? True\n"
     ]
    }
   ],
   "source": [
    "class Deque:\n",
    "    def __init__(self):\n",
    "        \"Constructor de la clase Deque\"\n",
    "        self.__deque = []\n",
    "\n",
    "    def is_empty(self):\n",
    "        \"Revisar si deque esta vacio\"\n",
    "        return len(self.__deque) == 0\n",
    "\n",
    "    def add_first(self, item):\n",
    "        \"Agregar un elemento a la parte inicial del deque: \"\n",
    "        self.__deque.insert(0, item)\n",
    "        \n",
    "    def remove_first(self):\n",
    "        \"Remover y retornar un elemento a la parte inicial del deque (cola): \"\n",
    "        return self.__deque.pop(0) if not self.is_empty() else None\n",
    "\n",
    "    def add_last(self, item):\n",
    "        \"Agregar un elemento a la parte final del deque (cola/pila): \"\n",
    "        self.__deque.append(item)\n",
    "\n",
    "    def remove_last(self):\n",
    "        \"Remover y retornar un elemento a la parte final del deque (pila): \"\n",
    "        return self.__deque.pop() if not self.is_empty() else None\n",
    "\n",
    "deque = Deque()\n",
    "print(\"¿Está vacío el Deque?\", deque.is_empty())\n",
    "deque.add_first(\"Hola\")\n",
    "print(deque._Deque__deque)\n",
    "deque.add_first(\"A\")\n",
    "print(deque._Deque__deque)\n",
    "deque.add_last(\"Todos\")\n",
    "print(deque._Deque__deque)\n",
    "print(\"Elemento eliminado: \", deque.remove_first())\n",
    "print(deque._Deque__deque)\n",
    "print(\"Elemento eliminado: \", deque.remove_last())\n",
    "print(deque._Deque__deque)\n",
    "print(\"¿Está vacío el Deque?\", deque.is_empty())\n",
    "print(\"Elemento eliminado: \", deque.remove_first())\n",
    "print(deque._Deque__deque)\n",
    "print(\"¿Está vacío el Deque?\", deque.is_empty())"
   ]
  },
  {
   "cell_type": "code",
   "execution_count": null,
   "id": "eaadad59-556e-4edd-8b01-e00666411f6d",
   "metadata": {},
   "outputs": [],
   "source": []
  }
 ],
 "metadata": {
  "kernelspec": {
   "display_name": "Python 3 (ipykernel)",
   "language": "python",
   "name": "python3"
  },
  "language_info": {
   "codemirror_mode": {
    "name": "ipython",
    "version": 3
   },
   "file_extension": ".py",
   "mimetype": "text/x-python",
   "name": "python",
   "nbconvert_exporter": "python",
   "pygments_lexer": "ipython3",
   "version": "3.12.4"
  }
 },
 "nbformat": 4,
 "nbformat_minor": 5
}
